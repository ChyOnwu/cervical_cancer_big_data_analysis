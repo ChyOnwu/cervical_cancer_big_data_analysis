{
 "cells": [
  {
   "cell_type": "code",
   "execution_count": 1,
   "id": "e99579d3",
   "metadata": {},
   "outputs": [],
   "source": [
    "#Importing PySpark libraries\n",
    "import findspark\n",
    "findspark.init()\n",
    "from pyspark import SparkConf, SparkContext\n",
    "from pyspark.sql import SparkSession, SQLContext\n",
    "import pandas as pd"
   ]
  },
  {
   "cell_type": "code",
   "execution_count": 2,
   "id": "cd2609fd",
   "metadata": {},
   "outputs": [],
   "source": [
    "spark = SparkSession.builder.master(\"local[*]\").getOrCreate()\n"
   ]
  },
  {
   "cell_type": "code",
   "execution_count": 3,
   "id": "98c6ddf8",
   "metadata": {},
   "outputs": [
    {
     "name": "stdout",
     "output_type": "stream",
     "text": [
      "+--------+\n",
      "|sweetpea|\n",
      "+--------+\n",
      "|     chy|\n",
      "+--------+\n",
      "\n"
     ]
    }
   ],
   "source": [
    "#Test the spark\n",
    "df = spark.sql('''select 'chy' as sweetpea ''')\n",
    "df.show()"
   ]
  },
  {
   "cell_type": "code",
   "execution_count": 4,
   "id": "4cb33d6d",
   "metadata": {},
   "outputs": [],
   "source": [
    "spark = SparkSession.builder.appName(\"Cervical Cancer Classification\").getOrCreate()"
   ]
  },
  {
   "cell_type": "code",
   "execution_count": 5,
   "id": "628bc7ef",
   "metadata": {},
   "outputs": [],
   "source": [
    "#Load Dataset\n",
    "file_loc_csv = 'kag_risk_factors_cervical_cancer.csv'\n",
    "cervical = spark.read.csv(file_loc_csv, inferSchema=True, header=True)"
   ]
  },
  {
   "cell_type": "code",
   "execution_count": 6,
   "id": "7010216c",
   "metadata": {},
   "outputs": [
    {
     "name": "stdout",
     "output_type": "stream",
     "text": [
      "<class 'pyspark.sql.dataframe.DataFrame'>\n"
     ]
    }
   ],
   "source": [
    "#Data type\n",
    "print(type(cervical))"
   ]
  },
  {
   "cell_type": "code",
   "execution_count": 7,
   "id": "930744aa",
   "metadata": {},
   "outputs": [
    {
     "data": {
      "text/plain": [
       "858"
      ]
     },
     "execution_count": 7,
     "metadata": {},
     "output_type": "execute_result"
    }
   ],
   "source": [
    "#Check number of rows\n",
    "cervical.count()"
   ]
  },
  {
   "cell_type": "code",
   "execution_count": 8,
   "id": "1825a9ef",
   "metadata": {},
   "outputs": [
    {
     "data": {
      "text/plain": [
       "36"
      ]
     },
     "execution_count": 8,
     "metadata": {},
     "output_type": "execute_result"
    }
   ],
   "source": [
    "#Check number of columns\n",
    "len(cervical.columns)"
   ]
  },
  {
   "cell_type": "code",
   "execution_count": 9,
   "id": "67a44591",
   "metadata": {},
   "outputs": [],
   "source": [
    "#cervical.describe().show()"
   ]
  },
  {
   "cell_type": "code",
   "execution_count": 10,
   "id": "1d4ed59e",
   "metadata": {},
   "outputs": [
    {
     "data": {
      "text/plain": [
       "[Row(Age=18, Number of sexual partners='4.0', First sexual intercourse='15.0', Num of pregnancies='1.0', Smokes='0.0', Smokes (years)='0.0', Smokes (packs/year)='0.0', Hormonal Contraceptives='0.0', Hormonal Contraceptives (years)='0.0', IUD='0.0', IUD (years)='0.0', STDs='0.0', STDs (number)='0.0', STDs:condylomatosis='0.0', STDs:cervical condylomatosis='0.0', STDs:vaginal condylomatosis='0.0', STDs:vulvo-perineal condylomatosis='0.0', STDs:syphilis='0.0', STDs:pelvic inflammatory disease='0.0', STDs:genital herpes='0.0', STDs:molluscum contagiosum='0.0', STDs:AIDS='0.0', STDs:HIV='0.0', STDs:Hepatitis B='0.0', STDs:HPV='0.0', STDs: Number of diagnosis=0, STDs: Time since first diagnosis='?', STDs: Time since last diagnosis='?', Dx:Cancer=0, Dx:CIN=0, Dx:HPV=0, Dx=0, Hinselmann=0, Schiller=0, Citology=0, Biopsy=0),\n",
       " Row(Age=15, Number of sexual partners='1.0', First sexual intercourse='14.0', Num of pregnancies='1.0', Smokes='0.0', Smokes (years)='0.0', Smokes (packs/year)='0.0', Hormonal Contraceptives='0.0', Hormonal Contraceptives (years)='0.0', IUD='0.0', IUD (years)='0.0', STDs='0.0', STDs (number)='0.0', STDs:condylomatosis='0.0', STDs:cervical condylomatosis='0.0', STDs:vaginal condylomatosis='0.0', STDs:vulvo-perineal condylomatosis='0.0', STDs:syphilis='0.0', STDs:pelvic inflammatory disease='0.0', STDs:genital herpes='0.0', STDs:molluscum contagiosum='0.0', STDs:AIDS='0.0', STDs:HIV='0.0', STDs:Hepatitis B='0.0', STDs:HPV='0.0', STDs: Number of diagnosis=0, STDs: Time since first diagnosis='?', STDs: Time since last diagnosis='?', Dx:Cancer=0, Dx:CIN=0, Dx:HPV=0, Dx=0, Hinselmann=0, Schiller=0, Citology=0, Biopsy=0)]"
      ]
     },
     "execution_count": 10,
     "metadata": {},
     "output_type": "execute_result"
    }
   ],
   "source": [
    "#Show details of the top 2 rows\n",
    "cervical.head(2)"
   ]
  },
  {
   "cell_type": "code",
   "execution_count": 11,
   "id": "bf361c84",
   "metadata": {},
   "outputs": [
    {
     "name": "stdout",
     "output_type": "stream",
     "text": [
      "+---+-------------------------+------------------------+------------------+------+--------------+-------------------+-----------------------+-------------------------------+---+-----------+----+-------------+-------------------+----------------------------+---------------------------+----------------------------------+-------------+--------------------------------+-------------------+--------------------------+---------+--------+----------------+--------+-------------------------+--------------------------------+-------------------------------+---------+------+------+---+----------+--------+--------+------+\n",
      "|Age|Number of sexual partners|First sexual intercourse|Num of pregnancies|Smokes|Smokes (years)|Smokes (packs/year)|Hormonal Contraceptives|Hormonal Contraceptives (years)|IUD|IUD (years)|STDs|STDs (number)|STDs:condylomatosis|STDs:cervical condylomatosis|STDs:vaginal condylomatosis|STDs:vulvo-perineal condylomatosis|STDs:syphilis|STDs:pelvic inflammatory disease|STDs:genital herpes|STDs:molluscum contagiosum|STDs:AIDS|STDs:HIV|STDs:Hepatitis B|STDs:HPV|STDs: Number of diagnosis|STDs: Time since first diagnosis|STDs: Time since last diagnosis|Dx:Cancer|Dx:CIN|Dx:HPV| Dx|Hinselmann|Schiller|Citology|Biopsy|\n",
      "+---+-------------------------+------------------------+------------------+------+--------------+-------------------+-----------------------+-------------------------------+---+-----------+----+-------------+-------------------+----------------------------+---------------------------+----------------------------------+-------------+--------------------------------+-------------------+--------------------------+---------+--------+----------------+--------+-------------------------+--------------------------------+-------------------------------+---------+------+------+---+----------+--------+--------+------+\n",
      "| 18|                      4.0|                    15.0|               1.0|   0.0|           0.0|                0.0|                    0.0|                            0.0|0.0|        0.0| 0.0|          0.0|                0.0|                         0.0|                        0.0|                               0.0|          0.0|                             0.0|                0.0|                       0.0|      0.0|     0.0|             0.0|     0.0|                        0|                               ?|                              ?|        0|     0|     0|  0|         0|       0|       0|     0|\n",
      "| 15|                      1.0|                    14.0|               1.0|   0.0|           0.0|                0.0|                    0.0|                            0.0|0.0|        0.0| 0.0|          0.0|                0.0|                         0.0|                        0.0|                               0.0|          0.0|                             0.0|                0.0|                       0.0|      0.0|     0.0|             0.0|     0.0|                        0|                               ?|                              ?|        0|     0|     0|  0|         0|       0|       0|     0|\n",
      "| 34|                      1.0|                       ?|               1.0|   0.0|           0.0|                0.0|                    0.0|                            0.0|0.0|        0.0| 0.0|          0.0|                0.0|                         0.0|                        0.0|                               0.0|          0.0|                             0.0|                0.0|                       0.0|      0.0|     0.0|             0.0|     0.0|                        0|                               ?|                              ?|        0|     0|     0|  0|         0|       0|       0|     0|\n",
      "| 52|                      5.0|                    16.0|               4.0|   1.0|          37.0|               37.0|                    1.0|                            3.0|0.0|        0.0| 0.0|          0.0|                0.0|                         0.0|                        0.0|                               0.0|          0.0|                             0.0|                0.0|                       0.0|      0.0|     0.0|             0.0|     0.0|                        0|                               ?|                              ?|        1|     0|     1|  0|         0|       0|       0|     0|\n",
      "| 46|                      3.0|                    21.0|               4.0|   0.0|           0.0|                0.0|                    1.0|                           15.0|0.0|        0.0| 0.0|          0.0|                0.0|                         0.0|                        0.0|                               0.0|          0.0|                             0.0|                0.0|                       0.0|      0.0|     0.0|             0.0|     0.0|                        0|                               ?|                              ?|        0|     0|     0|  0|         0|       0|       0|     0|\n",
      "+---+-------------------------+------------------------+------------------+------+--------------+-------------------+-----------------------+-------------------------------+---+-----------+----+-------------+-------------------+----------------------------+---------------------------+----------------------------------+-------------+--------------------------------+-------------------+--------------------------+---------+--------+----------------+--------+-------------------------+--------------------------------+-------------------------------+---------+------+------+---+----------+--------+--------+------+\n",
      "only showing top 5 rows\n",
      "\n"
     ]
    }
   ],
   "source": [
    "#Print top 5 rows\n",
    "cervical.show(5)"
   ]
  },
  {
   "cell_type": "code",
   "execution_count": 12,
   "id": "691ee3af",
   "metadata": {},
   "outputs": [
    {
     "name": "stdout",
     "output_type": "stream",
     "text": [
      "root\n",
      " |-- Age: integer (nullable = true)\n",
      " |-- Number of sexual partners: string (nullable = true)\n",
      " |-- First sexual intercourse: string (nullable = true)\n",
      " |-- Num of pregnancies: string (nullable = true)\n",
      " |-- Smokes: string (nullable = true)\n",
      " |-- Smokes (years): string (nullable = true)\n",
      " |-- Smokes (packs/year): string (nullable = true)\n",
      " |-- Hormonal Contraceptives: string (nullable = true)\n",
      " |-- Hormonal Contraceptives (years): string (nullable = true)\n",
      " |-- IUD: string (nullable = true)\n",
      " |-- IUD (years): string (nullable = true)\n",
      " |-- STDs: string (nullable = true)\n",
      " |-- STDs (number): string (nullable = true)\n",
      " |-- STDs:condylomatosis: string (nullable = true)\n",
      " |-- STDs:cervical condylomatosis: string (nullable = true)\n",
      " |-- STDs:vaginal condylomatosis: string (nullable = true)\n",
      " |-- STDs:vulvo-perineal condylomatosis: string (nullable = true)\n",
      " |-- STDs:syphilis: string (nullable = true)\n",
      " |-- STDs:pelvic inflammatory disease: string (nullable = true)\n",
      " |-- STDs:genital herpes: string (nullable = true)\n",
      " |-- STDs:molluscum contagiosum: string (nullable = true)\n",
      " |-- STDs:AIDS: string (nullable = true)\n",
      " |-- STDs:HIV: string (nullable = true)\n",
      " |-- STDs:Hepatitis B: string (nullable = true)\n",
      " |-- STDs:HPV: string (nullable = true)\n",
      " |-- STDs: Number of diagnosis: integer (nullable = true)\n",
      " |-- STDs: Time since first diagnosis: string (nullable = true)\n",
      " |-- STDs: Time since last diagnosis: string (nullable = true)\n",
      " |-- Dx:Cancer: integer (nullable = true)\n",
      " |-- Dx:CIN: integer (nullable = true)\n",
      " |-- Dx:HPV: integer (nullable = true)\n",
      " |-- Dx: integer (nullable = true)\n",
      " |-- Hinselmann: integer (nullable = true)\n",
      " |-- Schiller: integer (nullable = true)\n",
      " |-- Citology: integer (nullable = true)\n",
      " |-- Biopsy: integer (nullable = true)\n",
      "\n"
     ]
    }
   ],
   "source": [
    "#Check datatypes\n",
    "cervical.printSchema() "
   ]
  },
  {
   "cell_type": "code",
   "execution_count": 13,
   "id": "4db641bf",
   "metadata": {},
   "outputs": [
    {
     "name": "stdout",
     "output_type": "stream",
     "text": [
      "root\n",
      " |-- Age: float (nullable = true)\n",
      " |-- Number of sexual partners: float (nullable = true)\n",
      " |-- First sexual intercourse: float (nullable = true)\n",
      " |-- Num of pregnancies: float (nullable = true)\n",
      " |-- Smokes: float (nullable = true)\n",
      " |-- Smokes (years): float (nullable = true)\n",
      " |-- Smokes (packs/year): float (nullable = true)\n",
      " |-- Hormonal Contraceptives: float (nullable = true)\n",
      " |-- Hormonal Contraceptives (years): float (nullable = true)\n",
      " |-- IUD: float (nullable = true)\n",
      " |-- IUD (years): float (nullable = true)\n",
      " |-- STDs: float (nullable = true)\n",
      " |-- STDs (number): float (nullable = true)\n",
      " |-- STDs:condylomatosis: float (nullable = true)\n",
      " |-- STDs:cervical condylomatosis: float (nullable = true)\n",
      " |-- STDs:vaginal condylomatosis: float (nullable = true)\n",
      " |-- STDs:vulvo-perineal condylomatosis: float (nullable = true)\n",
      " |-- STDs:syphilis: float (nullable = true)\n",
      " |-- STDs:pelvic inflammatory disease: float (nullable = true)\n",
      " |-- STDs:genital herpes: float (nullable = true)\n",
      " |-- STDs:molluscum contagiosum: float (nullable = true)\n",
      " |-- STDs:AIDS: float (nullable = true)\n",
      " |-- STDs:HIV: float (nullable = true)\n",
      " |-- STDs:Hepatitis B: float (nullable = true)\n",
      " |-- STDs:HPV: float (nullable = true)\n",
      " |-- STDs: Number of diagnosis: float (nullable = true)\n",
      " |-- STDs: Time since first diagnosis: float (nullable = true)\n",
      " |-- STDs: Time since last diagnosis: float (nullable = true)\n",
      " |-- Dx:Cancer: float (nullable = true)\n",
      " |-- Dx:CIN: float (nullable = true)\n",
      " |-- Dx:HPV: float (nullable = true)\n",
      " |-- Dx: float (nullable = true)\n",
      " |-- Hinselmann: float (nullable = true)\n",
      " |-- Schiller: float (nullable = true)\n",
      " |-- Citology: float (nullable = true)\n",
      " |-- Biopsy: float (nullable = true)\n",
      "\n"
     ]
    }
   ],
   "source": [
    "#DATA CLEANING\n",
    "\n",
    "#Convert data type from string to float\n",
    "from pyspark.sql.functions import col\n",
    "cervical = cervical.select(*(col(c).cast(\"float\").alias(c) for c in cervical.columns))\n",
    "cervical.printSchema()"
   ]
  },
  {
   "cell_type": "code",
   "execution_count": 14,
   "id": "ebe9b4e5",
   "metadata": {
    "scrolled": true
   },
   "outputs": [
    {
     "name": "stdout",
     "output_type": "stream",
     "text": [
      "+----+-------------------------+------------------------+------------------+------+--------------+-------------------+-----------------------+-------------------------------+---+-----------+----+-------------+-------------------+----------------------------+---------------------------+----------------------------------+-------------+--------------------------------+-------------------+--------------------------+---------+--------+----------------+--------+-------------------------+--------------------------------+-------------------------------+---------+------+------+---+----------+--------+--------+------+\n",
      "| Age|Number of sexual partners|First sexual intercourse|Num of pregnancies|Smokes|Smokes (years)|Smokes (packs/year)|Hormonal Contraceptives|Hormonal Contraceptives (years)|IUD|IUD (years)|STDs|STDs (number)|STDs:condylomatosis|STDs:cervical condylomatosis|STDs:vaginal condylomatosis|STDs:vulvo-perineal condylomatosis|STDs:syphilis|STDs:pelvic inflammatory disease|STDs:genital herpes|STDs:molluscum contagiosum|STDs:AIDS|STDs:HIV|STDs:Hepatitis B|STDs:HPV|STDs: Number of diagnosis|STDs: Time since first diagnosis|STDs: Time since last diagnosis|Dx:Cancer|Dx:CIN|Dx:HPV| Dx|Hinselmann|Schiller|Citology|Biopsy|\n",
      "+----+-------------------------+------------------------+------------------+------+--------------+-------------------+-----------------------+-------------------------------+---+-----------+----+-------------+-------------------+----------------------------+---------------------------+----------------------------------+-------------+--------------------------------+-------------------+--------------------------+---------+--------+----------------+--------+-------------------------+--------------------------------+-------------------------------+---------+------+------+---+----------+--------+--------+------+\n",
      "|18.0|                      4.0|                    15.0|               1.0|   0.0|           0.0|                0.0|                    0.0|                            0.0|0.0|        0.0| 0.0|          0.0|                0.0|                         0.0|                        0.0|                               0.0|          0.0|                             0.0|                0.0|                       0.0|      0.0|     0.0|             0.0|     0.0|                      0.0|                            null|                           null|      0.0|   0.0|   0.0|0.0|       0.0|     0.0|     0.0|   0.0|\n",
      "|15.0|                      1.0|                    14.0|               1.0|   0.0|           0.0|                0.0|                    0.0|                            0.0|0.0|        0.0| 0.0|          0.0|                0.0|                         0.0|                        0.0|                               0.0|          0.0|                             0.0|                0.0|                       0.0|      0.0|     0.0|             0.0|     0.0|                      0.0|                            null|                           null|      0.0|   0.0|   0.0|0.0|       0.0|     0.0|     0.0|   0.0|\n",
      "|34.0|                      1.0|                    null|               1.0|   0.0|           0.0|                0.0|                    0.0|                            0.0|0.0|        0.0| 0.0|          0.0|                0.0|                         0.0|                        0.0|                               0.0|          0.0|                             0.0|                0.0|                       0.0|      0.0|     0.0|             0.0|     0.0|                      0.0|                            null|                           null|      0.0|   0.0|   0.0|0.0|       0.0|     0.0|     0.0|   0.0|\n",
      "|52.0|                      5.0|                    16.0|               4.0|   1.0|          37.0|               37.0|                    1.0|                            3.0|0.0|        0.0| 0.0|          0.0|                0.0|                         0.0|                        0.0|                               0.0|          0.0|                             0.0|                0.0|                       0.0|      0.0|     0.0|             0.0|     0.0|                      0.0|                            null|                           null|      1.0|   0.0|   1.0|0.0|       0.0|     0.0|     0.0|   0.0|\n",
      "|46.0|                      3.0|                    21.0|               4.0|   0.0|           0.0|                0.0|                    1.0|                           15.0|0.0|        0.0| 0.0|          0.0|                0.0|                         0.0|                        0.0|                               0.0|          0.0|                             0.0|                0.0|                       0.0|      0.0|     0.0|             0.0|     0.0|                      0.0|                            null|                           null|      0.0|   0.0|   0.0|0.0|       0.0|     0.0|     0.0|   0.0|\n",
      "+----+-------------------------+------------------------+------------------+------+--------------+-------------------+-----------------------+-------------------------------+---+-----------+----+-------------+-------------------+----------------------------+---------------------------+----------------------------------+-------------+--------------------------------+-------------------+--------------------------+---------+--------+----------------+--------+-------------------------+--------------------------------+-------------------------------+---------+------+------+---+----------+--------+--------+------+\n",
      "only showing top 5 rows\n",
      "\n"
     ]
    }
   ],
   "source": [
    "# Replace invalid data '?' with null \n",
    "import pyspark.sql.functions as F\n",
    "from pyspark.sql.functions import col,when\n",
    "cervical=cervical.select([when(col(c)==\"?\",None).otherwise(col(c)).alias(c) for c in cervical.columns])\n",
    "cervical.show(5)\n"
   ]
  },
  {
   "cell_type": "code",
   "execution_count": 15,
   "id": "2d42fb6f",
   "metadata": {},
   "outputs": [
    {
     "name": "stdout",
     "output_type": "stream",
     "text": [
      "+----+-------------------------+------------------------+------------------+------+--------------+-------------------+-----------------------+-------------------------------+----+-----------+----+-------------+-------------------+----------------------------+---------------------------+----------------------------------+-------------+--------------------------------+-------------------+--------------------------+---------+--------+----------------+--------+-------------------------+--------------------------------+-------------------------------+---------+------+------+---+----------+--------+--------+------+\n",
      "| Age|Number of sexual partners|First sexual intercourse|Num of pregnancies|Smokes|Smokes (years)|Smokes (packs/year)|Hormonal Contraceptives|Hormonal Contraceptives (years)| IUD|IUD (years)|STDs|STDs (number)|STDs:condylomatosis|STDs:cervical condylomatosis|STDs:vaginal condylomatosis|STDs:vulvo-perineal condylomatosis|STDs:syphilis|STDs:pelvic inflammatory disease|STDs:genital herpes|STDs:molluscum contagiosum|STDs:AIDS|STDs:HIV|STDs:Hepatitis B|STDs:HPV|STDs: Number of diagnosis|STDs: Time since first diagnosis|STDs: Time since last diagnosis|Dx:Cancer|Dx:CIN|Dx:HPV| Dx|Hinselmann|Schiller|Citology|Biopsy|\n",
      "+----+-------------------------+------------------------+------------------+------+--------------+-------------------+-----------------------+-------------------------------+----+-----------+----+-------------+-------------------+----------------------------+---------------------------+----------------------------------+-------------+--------------------------------+-------------------+--------------------------+---------+--------+----------------+--------+-------------------------+--------------------------------+-------------------------------+---------+------+------+---+----------+--------+--------+------+\n",
      "|21.0|                      1.0|                    18.0|               1.0|   0.0|           0.0|                0.0|                    1.0|                            4.0| 0.0|        0.0| 0.0|          0.0|                0.0|                         0.0|                        0.0|                               0.0|          0.0|                             0.0|                0.0|                       0.0|      0.0|     0.0|             0.0|     0.0|                      0.0|                            null|                           null|      0.0|   0.0|   0.0|0.0|       0.0|     0.0|     0.0|   0.0|\n",
      "|30.0|                      4.0|                    13.0|               8.0|   0.0|           0.0|                0.0|                   null|                           null|null|       null| 1.0|          1.0|                0.0|                         0.0|                        0.0|                               0.0|          1.0|                             0.0|                0.0|                       0.0|      0.0|     0.0|             0.0|     0.0|                      0.0|                            null|                           null|      0.0|   0.0|   0.0|0.0|       0.0|     0.0|     0.0|   0.0|\n",
      "|26.0|                      1.0|                    26.0|               3.0|   0.0|           0.0|                0.0|                    1.0|                            2.0| 1.0|        7.0| 0.0|          0.0|                0.0|                         0.0|                        0.0|                               0.0|          0.0|                             0.0|                0.0|                       0.0|      0.0|     0.0|             0.0|     0.0|                      0.0|                            null|                           null|      0.0|   0.0|   0.0|0.0|       0.0|     0.0|     0.0|   0.0|\n",
      "|37.0|                     null|                    18.0|               1.0|   0.0|           0.0|                0.0|                    1.0|                           0.58| 0.0|        0.0| 0.0|          0.0|                0.0|                         0.0|                        0.0|                               0.0|          0.0|                             0.0|                0.0|                       0.0|      0.0|     0.0|             0.0|     0.0|                      0.0|                            null|                           null|      0.0|   0.0|   0.0|0.0|       0.0|     0.0|     0.0|   0.0|\n",
      "|14.0|                      1.0|                    14.0|               2.0|   0.0|           0.0|                0.0|                    0.0|                            0.0| 0.0|        0.0| 0.0|          0.0|                0.0|                         0.0|                        0.0|                               0.0|          0.0|                             0.0|                0.0|                       0.0|      0.0|     0.0|             0.0|     0.0|                      0.0|                            null|                           null|      0.0|   0.0|   0.0|0.0|       0.0|     0.0|     0.0|   0.0|\n",
      "|33.0|                      3.0|                    17.0|               6.0|   0.0|           0.0|                0.0|                    0.0|                            0.0| 0.0|        0.0| 0.0|          0.0|                0.0|                         0.0|                        0.0|                               0.0|          0.0|                             0.0|                0.0|                       0.0|      0.0|     0.0|             0.0|     0.0|                      0.0|                            null|                           null|      0.0|   0.0|   0.0|0.0|       0.0|     0.0|     0.0|   0.0|\n",
      "|22.0|                     null|                    15.0|               3.0|   0.0|           0.0|                0.0|                    1.0|                            6.0| 0.0|        0.0| 0.0|          0.0|                0.0|                         0.0|                        0.0|                               0.0|          0.0|                             0.0|                0.0|                       0.0|      0.0|     0.0|             0.0|     0.0|                      0.0|                            null|                           null|      0.0|   0.0|   0.0|0.0|       0.0|     0.0|     0.0|   0.0|\n",
      "|26.0|                      2.0|                    17.0|              null|   1.0|           9.0|               1.35|                    1.0|                            3.0| 0.0|        0.0| 1.0|          2.0|                1.0|                         0.0|                        0.0|                               1.0|          0.0|                             0.0|                0.0|                       0.0|      0.0|     0.0|             0.0|     0.0|                      1.0|                             7.0|                            7.0|      0.0|   0.0|   0.0|0.0|       0.0|     1.0|     0.0|   0.0|\n",
      "|45.0|                      1.0|                    20.0|               5.0|   0.0|           0.0|                0.0|                    0.0|                            0.0| 0.0|        0.0| 0.0|          0.0|                0.0|                         0.0|                        0.0|                               0.0|          0.0|                             0.0|                0.0|                       0.0|      0.0|     0.0|             0.0|     0.0|                      0.0|                            null|                           null|      1.0|   0.0|   1.0|1.0|       0.0|     0.0|     0.0|   0.0|\n",
      "|32.0|                      1.0|                    22.0|               2.0|   0.0|           0.0|                0.0|                    1.0|                            7.0| 0.0|        0.0| 0.0|          0.0|                0.0|                         0.0|                        0.0|                               0.0|          0.0|                             0.0|                0.0|                       0.0|      0.0|     0.0|             0.0|     0.0|                      0.0|                            null|                           null|      0.0|   0.0|   0.0|0.0|       0.0|     0.0|     0.0|   0.0|\n",
      "|29.0|                      3.0|                    17.0|              null|   0.0|           0.0|                0.0|                    1.0|                            4.5| 0.0|        0.0| 0.0|          0.0|                0.0|                         0.0|                        0.0|                               0.0|          0.0|                             0.0|                0.0|                       0.0|      0.0|     0.0|             0.0|     0.0|                      0.0|                            null|                           null|      0.0|   0.0|   0.0|0.0|       0.0|     0.0|     0.0|   0.0|\n",
      "|21.0|                      5.0|                    15.0|               1.0|   0.0|           0.0|                0.0|                    1.0|                           0.17| 0.0|        0.0| 0.0|          0.0|                0.0|                         0.0|                        0.0|                               0.0|          0.0|                             0.0|                0.0|                       0.0|      0.0|     0.0|             0.0|     0.0|                      0.0|                            null|                           null|      0.0|   0.0|   0.0|0.0|       0.0|     0.0|     0.0|   0.0|\n",
      "|25.0|                      4.0|                    16.0|               3.0|   0.0|           0.0|                0.0|                    1.0|                            1.0| 1.0|        3.0| 0.0|          0.0|                0.0|                         0.0|                        0.0|                               0.0|          0.0|                             0.0|                0.0|                       0.0|      0.0|     0.0|             0.0|     0.0|                      0.0|                            null|                           null|      0.0|   0.0|   0.0|0.0|       0.0|     1.0|     0.0|   0.0|\n",
      "|40.0|                      3.0|                    18.0|               2.0|   0.0|           0.0|                0.0|                    1.0|                           15.0| 0.0|        0.0| 0.0|          0.0|                0.0|                         0.0|                        0.0|                               0.0|          0.0|                             0.0|                0.0|                       0.0|      0.0|     0.0|             0.0|     0.0|                      0.0|                            null|                           null|      0.0|   0.0|   0.0|0.0|       0.0|     0.0|     0.0|   0.0|\n",
      "|30.0|                      2.0|                    18.0|               1.0|   0.0|           0.0|                0.0|                    0.0|                            0.0| 0.0|        0.0| 0.0|          0.0|                0.0|                         0.0|                        0.0|                               0.0|          0.0|                             0.0|                0.0|                       0.0|      0.0|     0.0|             0.0|     0.0|                      0.0|                            null|                           null|      0.0|   0.0|   0.0|0.0|       0.0|     0.0|     0.0|   0.0|\n",
      "|29.0|                      4.0|                    10.0|               5.0|   0.0|           0.0|                0.0|                    0.0|                            0.0| 0.0|        0.0| 1.0|          1.0|                0.0|                         0.0|                        0.0|                               0.0|          1.0|                             0.0|                0.0|                       0.0|      0.0|     0.0|             0.0|     0.0|                      1.0|                             8.0|                            8.0|      0.0|   0.0|   0.0|0.0|       0.0|     0.0|     0.0|   0.0|\n",
      "|21.0|                      1.0|                    17.0|               2.0|   0.0|           0.0|                0.0|                    1.0|                            3.0| 0.0|        0.0| 0.0|          0.0|                0.0|                         0.0|                        0.0|                               0.0|          0.0|                             0.0|                0.0|                       0.0|      0.0|     0.0|             0.0|     0.0|                      0.0|                            null|                           null|      0.0|   0.0|   0.0|0.0|       1.0|     1.0|     0.0|   1.0|\n",
      "|18.0|                     null|                    16.0|               2.0|   0.0|           0.0|                0.0|                   null|                           null|null|       null|null|         null|               null|                        null|                       null|                              null|         null|                            null|               null|                      null|     null|    null|            null|    null|                      0.0|                            null|                           null|      0.0|   0.0|   0.0|0.0|       0.0|     0.0|     0.0|   0.0|\n",
      "|17.0|                      2.0|                    15.0|               2.0|   0.0|           0.0|                0.0|                    0.0|                            0.0| 0.0|        0.0| 1.0|          4.0|                1.0|                         0.0|                        0.0|                               1.0|          1.0|                             0.0|                0.0|                       0.0|      0.0|     1.0|             0.0|     0.0|                      3.0|                             3.0|                            1.0|      0.0|   0.0|   0.0|0.0|       1.0|     1.0|     0.0|   0.0|\n",
      "|21.0|                      3.0|                    17.0|               0.0|   0.0|           0.0|                0.0|                    0.0|                            0.0| 0.0|        0.0| 0.0|          0.0|                0.0|                         0.0|                        0.0|                               0.0|          0.0|                             0.0|                0.0|                       0.0|      0.0|     0.0|             0.0|     0.0|                      0.0|                            null|                           null|      0.0|   1.0|   0.0|1.0|       0.0|     0.0|     0.0|   1.0|\n",
      "+----+-------------------------+------------------------+------------------+------+--------------+-------------------+-----------------------+-------------------------------+----+-----------+----+-------------+-------------------+----------------------------+---------------------------+----------------------------------+-------------+--------------------------------+-------------------+--------------------------+---------+--------+----------------+--------+-------------------------+--------------------------------+-------------------------------+---------+------+------+---+----------+--------+--------+------+\n",
      "only showing top 20 rows\n",
      "\n"
     ]
    }
   ],
   "source": [
    "#Remove all duplicate\n",
    "cervical.dropDuplicates().show()"
   ]
  },
  {
   "cell_type": "code",
   "execution_count": 16,
   "id": "b300505d",
   "metadata": {},
   "outputs": [
    {
     "name": "stdout",
     "output_type": "stream",
     "text": [
      "+----+-------------------------+------------------------+------------------+------+--------------+-------------------+-----------------------+-------------------------------+----+-----------+----+-------------+-------------------+----------------------------+---------------------------+----------------------------------+-------------+--------------------------------+-------------------+--------------------------+---------+--------+----------------+--------+-------------------------+--------------------------------+-------------------------------+---------+------+------+---+----------+--------+--------+------+\n",
      "| Age|Number of sexual partners|First sexual intercourse|Num of pregnancies|Smokes|Smokes (years)|Smokes (packs/year)|Hormonal Contraceptives|Hormonal Contraceptives (years)| IUD|IUD (years)|STDs|STDs (number)|STDs:condylomatosis|STDs:cervical condylomatosis|STDs:vaginal condylomatosis|STDs:vulvo-perineal condylomatosis|STDs:syphilis|STDs:pelvic inflammatory disease|STDs:genital herpes|STDs:molluscum contagiosum|STDs:AIDS|STDs:HIV|STDs:Hepatitis B|STDs:HPV|STDs: Number of diagnosis|STDs: Time since first diagnosis|STDs: Time since last diagnosis|Dx:Cancer|Dx:CIN|Dx:HPV| Dx|Hinselmann|Schiller|Citology|Biopsy|\n",
      "+----+-------------------------+------------------------+------------------+------+--------------+-------------------+-----------------------+-------------------------------+----+-----------+----+-------------+-------------------+----------------------------+---------------------------+----------------------------------+-------------+--------------------------------+-------------------+--------------------------+---------+--------+----------------+--------+-------------------------+--------------------------------+-------------------------------+---------+------+------+---+----------+--------+--------+------+\n",
      "|18.0|                      4.0|                    15.0|               1.0|   0.0|           0.0|                0.0|                    0.0|                            0.0| 0.0|        0.0| 0.0|          0.0|                0.0|                         0.0|                        0.0|                               0.0|          0.0|                             0.0|                0.0|                       0.0|      0.0|     0.0|             0.0|     0.0|                      0.0|                            null|                           null|      0.0|   0.0|   0.0|0.0|       0.0|     0.0|     0.0|   0.0|\n",
      "|15.0|                      1.0|                    14.0|               1.0|   0.0|           0.0|                0.0|                    0.0|                            0.0| 0.0|        0.0| 0.0|          0.0|                0.0|                         0.0|                        0.0|                               0.0|          0.0|                             0.0|                0.0|                       0.0|      0.0|     0.0|             0.0|     0.0|                      0.0|                            null|                           null|      0.0|   0.0|   0.0|0.0|       0.0|     0.0|     0.0|   0.0|\n",
      "|34.0|                      1.0|                    null|               1.0|   0.0|           0.0|                0.0|                    0.0|                            0.0| 0.0|        0.0| 0.0|          0.0|                0.0|                         0.0|                        0.0|                               0.0|          0.0|                             0.0|                0.0|                       0.0|      0.0|     0.0|             0.0|     0.0|                      0.0|                            null|                           null|      0.0|   0.0|   0.0|0.0|       0.0|     0.0|     0.0|   0.0|\n",
      "|52.0|                      5.0|                    16.0|               4.0|   1.0|          37.0|               37.0|                    1.0|                            3.0| 0.0|        0.0| 0.0|          0.0|                0.0|                         0.0|                        0.0|                               0.0|          0.0|                             0.0|                0.0|                       0.0|      0.0|     0.0|             0.0|     0.0|                      0.0|                            null|                           null|      1.0|   0.0|   1.0|0.0|       0.0|     0.0|     0.0|   0.0|\n",
      "|46.0|                      3.0|                    21.0|               4.0|   0.0|           0.0|                0.0|                    1.0|                           15.0| 0.0|        0.0| 0.0|          0.0|                0.0|                         0.0|                        0.0|                               0.0|          0.0|                             0.0|                0.0|                       0.0|      0.0|     0.0|             0.0|     0.0|                      0.0|                            null|                           null|      0.0|   0.0|   0.0|0.0|       0.0|     0.0|     0.0|   0.0|\n",
      "|42.0|                      3.0|                    23.0|               2.0|   0.0|           0.0|                0.0|                    0.0|                            0.0| 0.0|        0.0| 0.0|          0.0|                0.0|                         0.0|                        0.0|                               0.0|          0.0|                             0.0|                0.0|                       0.0|      0.0|     0.0|             0.0|     0.0|                      0.0|                            null|                           null|      0.0|   0.0|   0.0|0.0|       0.0|     0.0|     0.0|   0.0|\n",
      "|51.0|                      3.0|                    17.0|               6.0|   1.0|          34.0|                3.4|                    0.0|                            0.0| 1.0|        7.0| 0.0|          0.0|                0.0|                         0.0|                        0.0|                               0.0|          0.0|                             0.0|                0.0|                       0.0|      0.0|     0.0|             0.0|     0.0|                      0.0|                            null|                           null|      0.0|   0.0|   0.0|0.0|       1.0|     1.0|     0.0|   1.0|\n",
      "|26.0|                      1.0|                    26.0|               3.0|   0.0|           0.0|                0.0|                    1.0|                            2.0| 1.0|        7.0| 0.0|          0.0|                0.0|                         0.0|                        0.0|                               0.0|          0.0|                             0.0|                0.0|                       0.0|      0.0|     0.0|             0.0|     0.0|                      0.0|                            null|                           null|      0.0|   0.0|   0.0|0.0|       0.0|     0.0|     0.0|   0.0|\n",
      "|45.0|                      1.0|                    20.0|               5.0|   0.0|           0.0|                0.0|                    0.0|                            0.0| 0.0|        0.0| 0.0|          0.0|                0.0|                         0.0|                        0.0|                               0.0|          0.0|                             0.0|                0.0|                       0.0|      0.0|     0.0|             0.0|     0.0|                      0.0|                            null|                           null|      1.0|   0.0|   1.0|1.0|       0.0|     0.0|     0.0|   0.0|\n",
      "|44.0|                      3.0|                    15.0|              null|   1.0|     1.2669729|                2.8|                    0.0|                            0.0|null|       null| 0.0|          0.0|                0.0|                         0.0|                        0.0|                               0.0|          0.0|                             0.0|                0.0|                       0.0|      0.0|     0.0|             0.0|     0.0|                      0.0|                            null|                           null|      0.0|   0.0|   0.0|0.0|       0.0|     0.0|     0.0|   0.0|\n",
      "|44.0|                      3.0|                    26.0|               4.0|   0.0|           0.0|                0.0|                    1.0|                            2.0| 0.0|        0.0| 0.0|          0.0|                0.0|                         0.0|                        0.0|                               0.0|          0.0|                             0.0|                0.0|                       0.0|      0.0|     0.0|             0.0|     0.0|                      0.0|                            null|                           null|      0.0|   0.0|   0.0|0.0|       0.0|     0.0|     0.0|   0.0|\n",
      "|27.0|                      1.0|                    17.0|               3.0|   0.0|           0.0|                0.0|                    1.0|                            8.0| 0.0|        0.0| 0.0|          0.0|                0.0|                         0.0|                        0.0|                               0.0|          0.0|                             0.0|                0.0|                       0.0|      0.0|     0.0|             0.0|     0.0|                      0.0|                            null|                           null|      0.0|   0.0|   0.0|0.0|       0.0|     0.0|     0.0|   0.0|\n",
      "|45.0|                      4.0|                    14.0|               6.0|   0.0|           0.0|                0.0|                    1.0|                           10.0| 1.0|        5.0| 0.0|          0.0|                0.0|                         0.0|                        0.0|                               0.0|          0.0|                             0.0|                0.0|                       0.0|      0.0|     0.0|             0.0|     0.0|                      0.0|                            null|                           null|      0.0|   0.0|   0.0|0.0|       0.0|     0.0|     0.0|   0.0|\n",
      "|44.0|                      2.0|                    25.0|               2.0|   0.0|           0.0|                0.0|                    1.0|                            5.0| 0.0|        0.0| 0.0|          0.0|                0.0|                         0.0|                        0.0|                               0.0|          0.0|                             0.0|                0.0|                       0.0|      0.0|     0.0|             0.0|     0.0|                      0.0|                            null|                           null|      0.0|   0.0|   0.0|0.0|       0.0|     0.0|     0.0|   0.0|\n",
      "|43.0|                      2.0|                    18.0|               5.0|   0.0|           0.0|                0.0|                    0.0|                            0.0| 1.0|        8.0| 0.0|          0.0|                0.0|                         0.0|                        0.0|                               0.0|          0.0|                             0.0|                0.0|                       0.0|      0.0|     0.0|             0.0|     0.0|                      0.0|                            null|                           null|      0.0|   0.0|   0.0|0.0|       0.0|     0.0|     0.0|   0.0|\n",
      "|40.0|                      3.0|                    18.0|               2.0|   0.0|           0.0|                0.0|                    1.0|                           15.0| 0.0|        0.0| 0.0|          0.0|                0.0|                         0.0|                        0.0|                               0.0|          0.0|                             0.0|                0.0|                       0.0|      0.0|     0.0|             0.0|     0.0|                      0.0|                            null|                           null|      0.0|   0.0|   0.0|0.0|       0.0|     0.0|     0.0|   0.0|\n",
      "|41.0|                      4.0|                    21.0|               3.0|   0.0|           0.0|                0.0|                    1.0|                           0.25| 0.0|        0.0| 0.0|          0.0|                0.0|                         0.0|                        0.0|                               0.0|          0.0|                             0.0|                0.0|                       0.0|      0.0|     0.0|             0.0|     0.0|                      0.0|                            null|                           null|      0.0|   0.0|   0.0|0.0|       0.0|     0.0|     0.0|   0.0|\n",
      "|43.0|                      3.0|                    15.0|               8.0|   0.0|           0.0|                0.0|                    1.0|                            3.0| 0.0|        0.0| 0.0|          0.0|                0.0|                         0.0|                        0.0|                               0.0|          0.0|                             0.0|                0.0|                       0.0|      0.0|     0.0|             0.0|     0.0|                      0.0|                            null|                           null|      0.0|   0.0|   0.0|0.0|       0.0|     0.0|     0.0|   0.0|\n",
      "|42.0|                      2.0|                    20.0|              null|   0.0|           0.0|                0.0|                    1.0|                            7.0| 1.0|        6.0| 1.0|          2.0|                1.0|                         0.0|                        0.0|                               1.0|          0.0|                             0.0|                0.0|                       0.0|      0.0|     0.0|             0.0|     0.0|                      0.0|                            null|                           null|      0.0|   0.0|   0.0|0.0|       0.0|     0.0|     0.0|   0.0|\n",
      "|40.0|                      2.0|                    27.0|              null|   0.0|           0.0|                0.0|                    0.0|                            0.0| 1.0|        1.0| 0.0|          0.0|                0.0|                         0.0|                        0.0|                               0.0|          0.0|                             0.0|                0.0|                       0.0|      0.0|     0.0|             0.0|     0.0|                      0.0|                            null|                           null|      0.0|   0.0|   0.0|0.0|       0.0|     0.0|     0.0|   0.0|\n",
      "+----+-------------------------+------------------------+------------------+------+--------------+-------------------+-----------------------+-------------------------------+----+-----------+----+-------------+-------------------+----------------------------+---------------------------+----------------------------------+-------------+--------------------------------+-------------------+--------------------------+---------+--------+----------------+--------+-------------------------+--------------------------------+-------------------------------+---------+------+------+---+----------+--------+--------+------+\n",
      "only showing top 20 rows\n",
      "\n"
     ]
    }
   ],
   "source": [
    "#Remove columns that have only null values\n",
    "cervical.na.drop(\"all\").show()"
   ]
  },
  {
   "cell_type": "code",
   "execution_count": 17,
   "id": "a15fbb2c",
   "metadata": {},
   "outputs": [
    {
     "name": "stdout",
     "output_type": "stream",
     "text": [
      "+---+-------------------------+------------------------+------------------+------+--------------+-------------------+-----------------------+-------------------------------+---+-----------+----+-------------+-------------------+----------------------------+---------------------------+----------------------------------+-------------+--------------------------------+-------------------+--------------------------+---------+--------+----------------+--------+-------------------------+--------------------------------+-------------------------------+---------+------+------+---+----------+--------+--------+------+\n",
      "|Age|Number of sexual partners|First sexual intercourse|Num of pregnancies|Smokes|Smokes (years)|Smokes (packs/year)|Hormonal Contraceptives|Hormonal Contraceptives (years)|IUD|IUD (years)|STDs|STDs (number)|STDs:condylomatosis|STDs:cervical condylomatosis|STDs:vaginal condylomatosis|STDs:vulvo-perineal condylomatosis|STDs:syphilis|STDs:pelvic inflammatory disease|STDs:genital herpes|STDs:molluscum contagiosum|STDs:AIDS|STDs:HIV|STDs:Hepatitis B|STDs:HPV|STDs: Number of diagnosis|STDs: Time since first diagnosis|STDs: Time since last diagnosis|Dx:Cancer|Dx:CIN|Dx:HPV| Dx|Hinselmann|Schiller|Citology|Biopsy|\n",
      "+---+-------------------------+------------------------+------------------+------+--------------+-------------------+-----------------------+-------------------------------+---+-----------+----+-------------+-------------------+----------------------------+---------------------------+----------------------------------+-------------+--------------------------------+-------------------+--------------------------+---------+--------+----------------+--------+-------------------------+--------------------------------+-------------------------------+---------+------+------+---+----------+--------+--------+------+\n",
      "|  0|                       26|                       7|                56|    13|            13|                 13|                    108|                            108|117|        117| 105|          105|                105|                         105|                        105|                               105|          105|                             105|                105|                       105|      105|     105|             105|     105|                        0|                             787|                            787|        0|     0|     0|  0|         0|       0|       0|     0|\n",
      "+---+-------------------------+------------------------+------------------+------+--------------+-------------------+-----------------------+-------------------------------+---+-----------+----+-------------+-------------------+----------------------------+---------------------------+----------------------------------+-------------+--------------------------------+-------------------+--------------------------+---------+--------+----------------+--------+-------------------------+--------------------------------+-------------------------------+---------+------+------+---+----------+--------+--------+------+\n",
      "\n"
     ]
    }
   ],
   "source": [
    "# checking the sum/count of null values in all columns\n",
    "from pyspark.sql.functions import col, isnan, when, count\n",
    "\n",
    "null_count = cervical.select([count(when(isnan(i)| col(i).isNull(), i)).alias(i)for i in cervical.columns])\n",
    "null_count.show()"
   ]
  },
  {
   "cell_type": "code",
   "execution_count": 18,
   "id": "8e1189f9",
   "metadata": {},
   "outputs": [
    {
     "data": {
      "text/plain": [
       "{'Age': 0,\n",
       " 'Number of sexual partners': 26,\n",
       " 'First sexual intercourse': 7,\n",
       " 'Num of pregnancies': 56,\n",
       " 'Smokes': 13,\n",
       " 'Smokes (years)': 13,\n",
       " 'Smokes (packs/year)': 13,\n",
       " 'Hormonal Contraceptives': 108,\n",
       " 'Hormonal Contraceptives (years)': 108,\n",
       " 'IUD': 117,\n",
       " 'IUD (years)': 117,\n",
       " 'STDs': 105,\n",
       " 'STDs (number)': 105,\n",
       " 'STDs:condylomatosis': 105,\n",
       " 'STDs:cervical condylomatosis': 105,\n",
       " 'STDs:vaginal condylomatosis': 105,\n",
       " 'STDs:vulvo-perineal condylomatosis': 105,\n",
       " 'STDs:syphilis': 105,\n",
       " 'STDs:pelvic inflammatory disease': 105,\n",
       " 'STDs:genital herpes': 105,\n",
       " 'STDs:molluscum contagiosum': 105,\n",
       " 'STDs:AIDS': 105,\n",
       " 'STDs:HIV': 105,\n",
       " 'STDs:Hepatitis B': 105,\n",
       " 'STDs:HPV': 105,\n",
       " 'STDs: Number of diagnosis': 0,\n",
       " 'STDs: Time since first diagnosis': 787,\n",
       " 'STDs: Time since last diagnosis': 787,\n",
       " 'Dx:Cancer': 0,\n",
       " 'Dx:CIN': 0,\n",
       " 'Dx:HPV': 0,\n",
       " 'Dx': 0,\n",
       " 'Hinselmann': 0,\n",
       " 'Schiller': 0,\n",
       " 'Citology': 0,\n",
       " 'Biopsy': 0}"
      ]
     },
     "execution_count": 18,
     "metadata": {},
     "output_type": "execute_result"
    }
   ],
   "source": [
    "null_count = null_count.collect()[0].asDict()\n",
    "null_count"
   ]
  },
  {
   "cell_type": "code",
   "execution_count": 19,
   "id": "bdfef248",
   "metadata": {
    "scrolled": false
   },
   "outputs": [
    {
     "name": "stdout",
     "output_type": "stream",
     "text": [
      "+----+-------------------------+------------------------+------------------+------+--------------+-------------------+-----------------------+-------------------------------+---+-----------+----+-------------+-------------------+----------------------------+---------------------------+----------------------------------+-------------+--------------------------------+-------------------+--------------------------+---------+--------+----------------+--------+-------------------------+---------+------+------+---+----------+--------+--------+------+\n",
      "| Age|Number of sexual partners|First sexual intercourse|Num of pregnancies|Smokes|Smokes (years)|Smokes (packs/year)|Hormonal Contraceptives|Hormonal Contraceptives (years)|IUD|IUD (years)|STDs|STDs (number)|STDs:condylomatosis|STDs:cervical condylomatosis|STDs:vaginal condylomatosis|STDs:vulvo-perineal condylomatosis|STDs:syphilis|STDs:pelvic inflammatory disease|STDs:genital herpes|STDs:molluscum contagiosum|STDs:AIDS|STDs:HIV|STDs:Hepatitis B|STDs:HPV|STDs: Number of diagnosis|Dx:Cancer|Dx:CIN|Dx:HPV| Dx|Hinselmann|Schiller|Citology|Biopsy|\n",
      "+----+-------------------------+------------------------+------------------+------+--------------+-------------------+-----------------------+-------------------------------+---+-----------+----+-------------+-------------------+----------------------------+---------------------------+----------------------------------+-------------+--------------------------------+-------------------+--------------------------+---------+--------+----------------+--------+-------------------------+---------+------+------+---+----------+--------+--------+------+\n",
      "|18.0|                      4.0|                    15.0|               1.0|   0.0|           0.0|                0.0|                    0.0|                            0.0|0.0|        0.0| 0.0|          0.0|                0.0|                         0.0|                        0.0|                               0.0|          0.0|                             0.0|                0.0|                       0.0|      0.0|     0.0|             0.0|     0.0|                      0.0|      0.0|   0.0|   0.0|0.0|       0.0|     0.0|     0.0|   0.0|\n",
      "|15.0|                      1.0|                    14.0|               1.0|   0.0|           0.0|                0.0|                    0.0|                            0.0|0.0|        0.0| 0.0|          0.0|                0.0|                         0.0|                        0.0|                               0.0|          0.0|                             0.0|                0.0|                       0.0|      0.0|     0.0|             0.0|     0.0|                      0.0|      0.0|   0.0|   0.0|0.0|       0.0|     0.0|     0.0|   0.0|\n",
      "|34.0|                      1.0|                    null|               1.0|   0.0|           0.0|                0.0|                    0.0|                            0.0|0.0|        0.0| 0.0|          0.0|                0.0|                         0.0|                        0.0|                               0.0|          0.0|                             0.0|                0.0|                       0.0|      0.0|     0.0|             0.0|     0.0|                      0.0|      0.0|   0.0|   0.0|0.0|       0.0|     0.0|     0.0|   0.0|\n",
      "|52.0|                      5.0|                    16.0|               4.0|   1.0|          37.0|               37.0|                    1.0|                            3.0|0.0|        0.0| 0.0|          0.0|                0.0|                         0.0|                        0.0|                               0.0|          0.0|                             0.0|                0.0|                       0.0|      0.0|     0.0|             0.0|     0.0|                      0.0|      1.0|   0.0|   1.0|0.0|       0.0|     0.0|     0.0|   0.0|\n",
      "|46.0|                      3.0|                    21.0|               4.0|   0.0|           0.0|                0.0|                    1.0|                           15.0|0.0|        0.0| 0.0|          0.0|                0.0|                         0.0|                        0.0|                               0.0|          0.0|                             0.0|                0.0|                       0.0|      0.0|     0.0|             0.0|     0.0|                      0.0|      0.0|   0.0|   0.0|0.0|       0.0|     0.0|     0.0|   0.0|\n",
      "+----+-------------------------+------------------------+------------------+------+--------------+-------------------+-----------------------+-------------------------------+---+-----------+----+-------------+-------------------+----------------------------+---------------------------+----------------------------------+-------------+--------------------------------+-------------------+--------------------------+---------+--------+----------------+--------+-------------------------+---------+------+------+---+----------+--------+--------+------+\n",
      "only showing top 5 rows\n",
      "\n"
     ]
    }
   ],
   "source": [
    "#Drop columns with over 20% null values i.e 0.2*856 = 171\n",
    "cols_to_drop = [c for c,i in null_count.items() if i > 171]\n",
    "cervical = cervical.drop(*cols_to_drop)\n",
    "cervical.show(5)"
   ]
  },
  {
   "cell_type": "code",
   "execution_count": 20,
   "id": "703ee8c6",
   "metadata": {},
   "outputs": [
    {
     "data": {
      "text/plain": [
       "['Number of sexual partners',\n",
       " 'First sexual intercourse',\n",
       " 'Num of pregnancies',\n",
       " 'Smokes',\n",
       " 'Smokes (years)',\n",
       " 'Smokes (packs/year)',\n",
       " 'Hormonal Contraceptives',\n",
       " 'Hormonal Contraceptives (years)',\n",
       " 'IUD',\n",
       " 'IUD (years)',\n",
       " 'STDs',\n",
       " 'STDs (number)',\n",
       " 'STDs:condylomatosis',\n",
       " 'STDs:cervical condylomatosis',\n",
       " 'STDs:vaginal condylomatosis',\n",
       " 'STDs:vulvo-perineal condylomatosis',\n",
       " 'STDs:syphilis',\n",
       " 'STDs:pelvic inflammatory disease',\n",
       " 'STDs:genital herpes',\n",
       " 'STDs:molluscum contagiosum',\n",
       " 'STDs:AIDS',\n",
       " 'STDs:HIV',\n",
       " 'STDs:Hepatitis B',\n",
       " 'STDs:HPV',\n",
       " 'STDs: Time since first diagnosis',\n",
       " 'STDs: Time since last diagnosis']"
      ]
     },
     "execution_count": 20,
     "metadata": {},
     "output_type": "execute_result"
    }
   ],
   "source": [
    "#Fitting the other null values\n",
    "#Importing relevant library\n",
    "from pyspark.ml.feature import Imputer\n",
    "\n",
    "\n",
    "#Check columns to fit\n",
    "cols_to_fit = [c for c,i in null_count.items() if i > 0]\n",
    "cols_to_fit\n",
    "\n",
    "\n"
   ]
  },
  {
   "cell_type": "code",
   "execution_count": 21,
   "id": "392ca6b0",
   "metadata": {},
   "outputs": [],
   "source": [
    "#Fitting the null values\n",
    "imputer = Imputer(inputCols=['Number of sexual partners',\n",
    " 'First sexual intercourse',\n",
    " 'Num of pregnancies',\n",
    " 'Smokes',\n",
    " 'Smokes (years)',\n",
    " 'Smokes (packs/year)',\n",
    " 'Hormonal Contraceptives',\n",
    " 'Hormonal Contraceptives (years)',\n",
    " 'IUD',\n",
    " 'IUD (years)',\n",
    " 'STDs',\n",
    " 'STDs (number)',\n",
    " 'STDs:condylomatosis',\n",
    " 'STDs:cervical condylomatosis',\n",
    " 'STDs:vaginal condylomatosis',\n",
    " 'STDs:vulvo-perineal condylomatosis',\n",
    " 'STDs:syphilis',\n",
    " 'STDs:pelvic inflammatory disease',\n",
    " 'STDs:genital herpes',\n",
    " 'STDs:molluscum contagiosum',\n",
    " 'STDs:AIDS',\n",
    " 'STDs:HIV',\n",
    " 'STDs:Hepatitis B',\n",
    " 'STDs:HPV'],\n",
    "                 outputCols=['Number of sexual partners',\n",
    " 'First sexual intercourse',\n",
    " 'Num of pregnancies',\n",
    " 'Smokes',\n",
    " 'Smokes (years)',\n",
    " 'Smokes (packs/year)',\n",
    " 'Hormonal Contraceptives',\n",
    " 'Hormonal Contraceptives (years)',\n",
    " 'IUD',\n",
    " 'IUD (years)',\n",
    " 'STDs',\n",
    " 'STDs (number)',\n",
    " 'STDs:condylomatosis',\n",
    " 'STDs:cervical condylomatosis',\n",
    " 'STDs:vaginal condylomatosis',\n",
    " 'STDs:vulvo-perineal condylomatosis',\n",
    " 'STDs:syphilis',\n",
    " 'STDs:pelvic inflammatory disease',\n",
    " 'STDs:genital herpes',\n",
    " 'STDs:molluscum contagiosum',\n",
    " 'STDs:AIDS',\n",
    " 'STDs:HIV',\n",
    " 'STDs:Hepatitis B',\n",
    " 'STDs:HPV'])\n",
    "model = imputer.fit(cervical)\n",
    "cervical = model.transform(cervical)\n",
    "\n"
   ]
  },
  {
   "cell_type": "code",
   "execution_count": 22,
   "id": "e991cb29",
   "metadata": {},
   "outputs": [
    {
     "data": {
      "text/plain": [
       "{'Age': 0,\n",
       " 'Number of sexual partners': 0,\n",
       " 'First sexual intercourse': 0,\n",
       " 'Num of pregnancies': 0,\n",
       " 'Smokes': 0,\n",
       " 'Smokes (years)': 0,\n",
       " 'Smokes (packs/year)': 0,\n",
       " 'Hormonal Contraceptives': 0,\n",
       " 'Hormonal Contraceptives (years)': 0,\n",
       " 'IUD': 0,\n",
       " 'IUD (years)': 0,\n",
       " 'STDs': 0,\n",
       " 'STDs (number)': 0,\n",
       " 'STDs:condylomatosis': 0,\n",
       " 'STDs:cervical condylomatosis': 0,\n",
       " 'STDs:vaginal condylomatosis': 0,\n",
       " 'STDs:vulvo-perineal condylomatosis': 0,\n",
       " 'STDs:syphilis': 0,\n",
       " 'STDs:pelvic inflammatory disease': 0,\n",
       " 'STDs:genital herpes': 0,\n",
       " 'STDs:molluscum contagiosum': 0,\n",
       " 'STDs:AIDS': 0,\n",
       " 'STDs:HIV': 0,\n",
       " 'STDs:Hepatitis B': 0,\n",
       " 'STDs:HPV': 0,\n",
       " 'STDs: Number of diagnosis': 0,\n",
       " 'Dx:Cancer': 0,\n",
       " 'Dx:CIN': 0,\n",
       " 'Dx:HPV': 0,\n",
       " 'Dx': 0,\n",
       " 'Hinselmann': 0,\n",
       " 'Schiller': 0,\n",
       " 'Citology': 0,\n",
       " 'Biopsy': 0}"
      ]
     },
     "execution_count": 22,
     "metadata": {},
     "output_type": "execute_result"
    }
   ],
   "source": [
    "#checking for null/nan values after fitting the data\n",
    "\n",
    "null_count = cervical.select([count(when(isnan(i)| col(i).isNull(), i)).alias(i)for i in cervical.columns])\n",
    "null_count = null_count.collect()[0].asDict()\n",
    "null_count"
   ]
  },
  {
   "cell_type": "code",
   "execution_count": 23,
   "id": "30b51422",
   "metadata": {},
   "outputs": [
    {
     "data": {
      "text/plain": [
       "34"
      ]
     },
     "execution_count": 23,
     "metadata": {},
     "output_type": "execute_result"
    }
   ],
   "source": [
    "#Check new number of columns\n",
    "len(cervical.columns)"
   ]
  },
  {
   "cell_type": "code",
   "execution_count": 24,
   "id": "3d94db49",
   "metadata": {},
   "outputs": [],
   "source": [
    "#MACHINE LEARNING\n",
    "\n",
    "\n",
    "#Import relevant PySpark Machine Learning Libraries\n",
    "from pyspark.ml.feature import VectorAssembler\n",
    "from pyspark.ml.feature import StandardScaler\n",
    "from pyspark.ml.feature import StringIndexer\n",
    "\n",
    "from pyspark.ml.classification import LogisticRegression\n",
    "from pyspark.ml.classification import NaiveBayes\n",
    "from pyspark.ml.classification import RandomForestClassifier\n",
    "\n",
    "from pyspark.mllib.evaluation import BinaryClassificationMetrics\n",
    "from pyspark.ml.evaluation import MulticlassClassificationEvaluator\n",
    "\n"
   ]
  },
  {
   "cell_type": "code",
   "execution_count": 25,
   "id": "c152b00c",
   "metadata": {},
   "outputs": [
    {
     "name": "stdout",
     "output_type": "stream",
     "text": [
      "+------+-----+\n",
      "|Biopsy|count|\n",
      "+------+-----+\n",
      "|   1.0|   55|\n",
      "|   0.0|  803|\n",
      "+------+-----+\n",
      "\n"
     ]
    }
   ],
   "source": [
    "#Checking the Biopsy data. \n",
    "cervical.groupBy(\"Biopsy\").count().show()"
   ]
  },
  {
   "cell_type": "code",
   "execution_count": 27,
   "id": "652534c7",
   "metadata": {},
   "outputs": [
    {
     "name": "stdout",
     "output_type": "stream",
     "text": [
      "['Age', 'Number of sexual partners', 'First sexual intercourse', 'Num of pregnancies', 'Smokes', 'Smokes (years)', 'Smokes (packs/year)', 'Hormonal Contraceptives', 'Hormonal Contraceptives (years)', 'IUD', 'IUD (years)', 'STDs', 'STDs (number)', 'STDs:condylomatosis', 'STDs:cervical condylomatosis', 'STDs:vaginal condylomatosis', 'STDs:vulvo-perineal condylomatosis', 'STDs:syphilis', 'STDs:pelvic inflammatory disease', 'STDs:genital herpes', 'STDs:molluscum contagiosum', 'STDs:AIDS', 'STDs:HIV', 'STDs:Hepatitis B', 'STDs:HPV', 'STDs: Number of diagnosis', 'Dx:Cancer', 'Dx:CIN', 'Dx:HPV', 'Dx', 'Hinselmann', 'Schiller', 'Citology']\n"
     ]
    }
   ],
   "source": [
    "#Vector assembling\n",
    "cols = cervical.columns\n",
    "cols.remove(\"Biopsy\")\n",
    "print(cols)\n",
    "assembler = VectorAssembler(inputCols = cols, outputCol = \"features\")\n",
    "cervical.show()"
   ]
  },
  {
   "cell_type": "code",
   "execution_count": 28,
   "id": "802eca08",
   "metadata": {},
   "outputs": [
    {
     "name": "stdout",
     "output_type": "stream",
     "text": [
      "+--------------------------------------------------------------------------------------------------------------------------------------------+------+\n",
      "|features                                                                                                                                    |Biopsy|\n",
      "+--------------------------------------------------------------------------------------------------------------------------------------------+------+\n",
      "|(33,[0,1,2,3],[18.0,4.0,15.0,1.0])                                                                                                          |0.0   |\n",
      "|(33,[0,1,2,3],[15.0,1.0,14.0,1.0])                                                                                                          |0.0   |\n",
      "|(33,[0,1,2,3],[34.0,1.0,16.99530029296875,1.0])                                                                                             |0.0   |\n",
      "|(33,[0,1,2,3,4,5,6,7,8,26,28],[52.0,5.0,16.0,4.0,1.0,37.0,37.0,1.0,3.0,1.0,1.0])                                                            |0.0   |\n",
      "|(33,[0,1,2,3,7,8],[46.0,3.0,21.0,4.0,1.0,15.0])                                                                                             |0.0   |\n",
      "|(33,[0,1,2,3],[42.0,3.0,23.0,2.0])                                                                                                          |0.0   |\n",
      "|(33,[0,1,2,3,4,5,6,9,10,30,31],[51.0,3.0,17.0,6.0,1.0,34.0,3.4000000953674316,1.0,7.0,1.0,1.0])                                             |1.0   |\n",
      "|(33,[0,1,2,3,7,8,9,10],[26.0,1.0,26.0,3.0,1.0,2.0,1.0,7.0])                                                                                 |0.0   |\n",
      "|(33,[0,1,2,3,26,28,29],[45.0,1.0,20.0,5.0,1.0,1.0,1.0])                                                                                     |0.0   |\n",
      "|(33,[0,1,2,3,4,5,6,9,10],[44.0,3.0,15.0,2.2755610942840576,1.0,1.2669728994369507,2.799999952316284,0.11201079934835434,0.5148043036460876])|0.0   |\n",
      "|(33,[0,1,2,3,7,8],[44.0,3.0,26.0,4.0,1.0,2.0])                                                                                              |0.0   |\n",
      "|(33,[0,1,2,3,7,8],[27.0,1.0,17.0,3.0,1.0,8.0])                                                                                              |0.0   |\n",
      "|(33,[0,1,2,3,7,8,9,10],[45.0,4.0,14.0,6.0,1.0,10.0,1.0,5.0])                                                                                |0.0   |\n",
      "|(33,[0,1,2,3,7,8],[44.0,2.0,25.0,2.0,1.0,5.0])                                                                                              |0.0   |\n",
      "|(33,[0,1,2,3,9,10],[43.0,2.0,18.0,5.0,1.0,8.0])                                                                                             |0.0   |\n",
      "|(33,[0,1,2,3,7,8],[40.0,3.0,18.0,2.0,1.0,15.0])                                                                                             |0.0   |\n",
      "|(33,[0,1,2,3,7,8],[41.0,4.0,21.0,3.0,1.0,0.25])                                                                                             |0.0   |\n",
      "|(33,[0,1,2,3,7,8],[43.0,3.0,15.0,8.0,1.0,3.0])                                                                                              |0.0   |\n",
      "|(33,[0,1,2,3,7,8,9,10,11,12,13,16],[42.0,2.0,20.0,2.2755610942840576,1.0,7.0,1.0,6.0,1.0,2.0,1.0,1.0])                                      |0.0   |\n",
      "|(33,[0,1,2,3,9,10],[40.0,2.0,27.0,2.2755610942840576,1.0,1.0])                                                                              |0.0   |\n",
      "+--------------------------------------------------------------------------------------------------------------------------------------------+------+\n",
      "only showing top 20 rows\n",
      "\n"
     ]
    }
   ],
   "source": [
    "#Tranforming the dataset\n",
    "cervical = assembler.transform(cervical)\n",
    "cervical.select(\"features\",'Biopsy').show(truncate = False)"
   ]
  },
  {
   "cell_type": "code",
   "execution_count": 29,
   "id": "2752ef93",
   "metadata": {},
   "outputs": [],
   "source": [
    "#apply Scaling to achieve better results\n",
    "standardscaler = StandardScaler().setInputCol(\"features\").setOutputCol(\"Scaled_features\")\n",
    "cervical = standardscaler.fit(cervical).transform(cervical)"
   ]
  },
  {
   "cell_type": "code",
   "execution_count": 30,
   "id": "e2faa7e2",
   "metadata": {},
   "outputs": [
    {
     "name": "stdout",
     "output_type": "stream",
     "text": [
      "+--------------------+------+\n",
      "|     Scaled_features|Biopsy|\n",
      "+--------------------+------+\n",
      "|(33,[0,1,2,3],[2....|   0.0|\n",
      "|(33,[0,1,2,3],[1....|   0.0|\n",
      "|(33,[0,1,2,3],[4....|   0.0|\n",
      "|(33,[0,1,2,3,4,5,...|   0.0|\n",
      "|(33,[0,1,2,3,7,8]...|   0.0|\n",
      "|(33,[0,1,2,3],[4....|   0.0|\n",
      "|(33,[0,1,2,3,4,5,...|   1.0|\n",
      "|(33,[0,1,2,3,7,8,...|   0.0|\n",
      "|(33,[0,1,2,3,26,2...|   0.0|\n",
      "|(33,[0,1,2,3,4,5,...|   0.0|\n",
      "|(33,[0,1,2,3,7,8]...|   0.0|\n",
      "|(33,[0,1,2,3,7,8]...|   0.0|\n",
      "|(33,[0,1,2,3,7,8,...|   0.0|\n",
      "|(33,[0,1,2,3,7,8]...|   0.0|\n",
      "|(33,[0,1,2,3,9,10...|   0.0|\n",
      "|(33,[0,1,2,3,7,8]...|   0.0|\n",
      "|(33,[0,1,2,3,7,8]...|   0.0|\n",
      "|(33,[0,1,2,3,7,8]...|   0.0|\n",
      "|(33,[0,1,2,3,7,8,...|   0.0|\n",
      "|(33,[0,1,2,3,9,10...|   0.0|\n",
      "+--------------------+------+\n",
      "only showing top 20 rows\n",
      "\n"
     ]
    }
   ],
   "source": [
    "assembled_data = cervical.select(\"Scaled_features\",\"Biopsy\")\n",
    "assembled_data.show()"
   ]
  },
  {
   "cell_type": "code",
   "execution_count": 31,
   "id": "c9c901e8",
   "metadata": {},
   "outputs": [
    {
     "name": "stdout",
     "output_type": "stream",
     "text": [
      "+--------------------+------+\n",
      "|     Scaled_features|Biopsy|\n",
      "+--------------------+------+\n",
      "|(33,[0,1,2],[2.23...|   0.0|\n",
      "|(33,[0,1,2],[2.82...|   0.0|\n",
      "|(33,[0,1,2],[3.88...|   0.0|\n",
      "|(33,[0,1,2],[3.88...|   0.0|\n",
      "|(33,[0,1,2],[4.00...|   0.0|\n",
      "|(33,[0,1,2],[5.41...|   0.0|\n",
      "|(33,[0,1,2,3],[1....|   0.0|\n",
      "|(33,[0,1,2,3],[1....|   0.0|\n",
      "|(33,[0,1,2,3],[1....|   0.0|\n",
      "|(33,[0,1,2,3],[1....|   0.0|\n",
      "|(33,[0,1,2,3],[1....|   0.0|\n",
      "|(33,[0,1,2,3],[1....|   0.0|\n",
      "|(33,[0,1,2,3],[1....|   0.0|\n",
      "|(33,[0,1,2,3],[1....|   0.0|\n",
      "|(33,[0,1,2,3],[1....|   0.0|\n",
      "|(33,[0,1,2,3],[2....|   0.0|\n",
      "|(33,[0,1,2,3],[2....|   0.0|\n",
      "|(33,[0,1,2,3],[2....|   0.0|\n",
      "|(33,[0,1,2,3],[2....|   0.0|\n",
      "|(33,[0,1,2,3],[2....|   0.0|\n",
      "+--------------------+------+\n",
      "only showing top 20 rows\n",
      "\n",
      "+--------------------+------+\n",
      "|     Scaled_features|Biopsy|\n",
      "+--------------------+------+\n",
      "|(33,[0,1,2],[1.52...|   0.0|\n",
      "|(33,[0,1,2],[2.70...|   0.0|\n",
      "|(33,[0,1,2],[4.00...|   0.0|\n",
      "|(33,[0,1,2,3],[1....|   0.0|\n",
      "|(33,[0,1,2,3],[1....|   0.0|\n",
      "|(33,[0,1,2,3],[1....|   0.0|\n",
      "|(33,[0,1,2,3],[1....|   0.0|\n",
      "|(33,[0,1,2,3],[1....|   0.0|\n",
      "|(33,[0,1,2,3],[1....|   0.0|\n",
      "|(33,[0,1,2,3],[1....|   0.0|\n",
      "|(33,[0,1,2,3],[1....|   0.0|\n",
      "|(33,[0,1,2,3],[1....|   0.0|\n",
      "|(33,[0,1,2,3],[1....|   0.0|\n",
      "|(33,[0,1,2,3],[1....|   0.0|\n",
      "|(33,[0,1,2,3],[2....|   0.0|\n",
      "|(33,[0,1,2,3],[2....|   0.0|\n",
      "|(33,[0,1,2,3],[2....|   0.0|\n",
      "|(33,[0,1,2,3],[2....|   0.0|\n",
      "|(33,[0,1,2,3],[2....|   0.0|\n",
      "|(33,[0,1,2,3],[2....|   0.0|\n",
      "+--------------------+------+\n",
      "only showing top 20 rows\n",
      "\n"
     ]
    }
   ],
   "source": [
    "#Splitting into train and test data\n",
    "train_cervical,test_cervical = assembled_data.randomSplit([0.7,0.3])\n",
    "\n",
    "train_cervical.show()\n",
    "test_cervical.show()"
   ]
  },
  {
   "cell_type": "code",
   "execution_count": 32,
   "id": "a1343397",
   "metadata": {},
   "outputs": [
    {
     "data": {
      "text/plain": [
       "LogisticRegressionModel: uid=LogisticRegression_20de95b2fcf0, numClasses=2, numFeatures=33"
      ]
     },
     "execution_count": 32,
     "metadata": {},
     "output_type": "execute_result"
    }
   ],
   "source": [
    "#LOGISTIC REGRESSION\n",
    "log_reg = LogisticRegression(labelCol = \"Biopsy\", featuresCol = \"Scaled_features\", maxIter=40)\n",
    "model = log_reg.fit(train_cervical)\n",
    "\n",
    "model"
   ]
  },
  {
   "cell_type": "code",
   "execution_count": 33,
   "id": "fc5bd1c3",
   "metadata": {},
   "outputs": [
    {
     "name": "stdout",
     "output_type": "stream",
     "text": [
      "+--------------------+------+--------------------+--------------------+----------+\n",
      "|     Scaled_features|Biopsy|       rawPrediction|         probability|prediction|\n",
      "+--------------------+------+--------------------+--------------------+----------+\n",
      "|(33,[0,1,2],[1.52...|   0.0|[5.58824845372962...|[0.99627237153245...|       0.0|\n",
      "|(33,[0,1,2],[2.70...|   0.0|[5.65702715706826...|[0.99651927250372...|       0.0|\n",
      "|(33,[0,1,2],[4.00...|   0.0|[5.78602786304180...|[0.99693924393295...|       0.0|\n",
      "|(33,[0,1,2,3],[1....|   0.0|[5.64499978484119...|[0.99647730409374...|       0.0|\n",
      "|(33,[0,1,2,3],[1....|   0.0|[5.52500361581862...|[0.99602996968235...|       0.0|\n",
      "|(33,[0,1,2,3],[1....|   0.0|[5.65549339595949...|[0.99651394842802...|       0.0|\n",
      "|(33,[0,1,2,3],[1....|   0.0|[5.70695712323777...|[0.99668823627142...|       0.0|\n",
      "|(33,[0,1,2,3],[1....|   0.0|[5.53376189117525...|[0.99606445223535...|       0.0|\n",
      "|(33,[0,1,2,3],[1....|   0.0|[5.53202655541358...|[0.99605764375709...|       0.0|\n",
      "|(33,[0,1,2,3],[1....|   0.0|[5.58522561845352...|[0.99626112867115...|       0.0|\n",
      "|(33,[0,1,2,3],[1....|   0.0|[5.46175877790761...|[0.99577187171642...|       0.0|\n",
      "|(33,[0,1,2,3],[1....|   0.0|[5.66425167131613...|[0.99654424186431...|       0.0|\n",
      "|(33,[0,1,2,3],[1....|   0.0|[5.71571539859440...|[0.99671702015355...|       0.0|\n",
      "|(33,[0,1,2,3],[1....|   0.0|[5.71571539859440...|[0.99671702015355...|       0.0|\n",
      "|(33,[0,1,2,3],[2....|   0.0|[5.77593740122931...|[0.99690829911500...|       0.0|\n",
      "|(33,[0,1,2,3],[2....|   0.0|[5.68003288626772...|[0.99659816579195...|       0.0|\n",
      "|(33,[0,1,2,3],[2....|   0.0|[5.83615940386421...|[0.99708846598751...|       0.0|\n",
      "|(33,[0,1,2,3],[2....|   0.0|[5.88762313114249...|[0.99723411010518...|       0.0|\n",
      "|(33,[0,1,2,3],[2....|   0.0|[5.61150044452342...|[0.99635773434901...|       0.0|\n",
      "|(33,[0,1,2,3],[2....|   0.0|[5.84318234345918...|[0.99710878297079...|       0.0|\n",
      "+--------------------+------+--------------------+--------------------+----------+\n",
      "only showing top 20 rows\n",
      "\n"
     ]
    }
   ],
   "source": [
    "prediction_test = model.transform(test_cervical)\n",
    "prediction_test.show()\n",
    "\n"
   ]
  },
  {
   "cell_type": "code",
   "execution_count": 34,
   "id": "affe67b1",
   "metadata": {},
   "outputs": [
    {
     "name": "stdout",
     "output_type": "stream",
     "text": [
      "+------+----------+\n",
      "|Biopsy|prediction|\n",
      "+------+----------+\n",
      "|   0.0|       0.0|\n",
      "|   0.0|       0.0|\n",
      "|   0.0|       0.0|\n",
      "|   0.0|       0.0|\n",
      "|   0.0|       0.0|\n",
      "|   0.0|       0.0|\n",
      "|   0.0|       0.0|\n",
      "|   0.0|       0.0|\n",
      "|   0.0|       0.0|\n",
      "|   0.0|       0.0|\n",
      "+------+----------+\n",
      "only showing top 10 rows\n",
      "\n"
     ]
    }
   ],
   "source": [
    "prediction_test.select(\"Biopsy\",\"prediction\").show(10)\n"
   ]
  },
  {
   "cell_type": "code",
   "execution_count": 35,
   "id": "855935a8",
   "metadata": {},
   "outputs": [
    {
     "data": {
      "text/plain": [
       "[Row(Biopsy=0.0, prediction=0.0),\n",
       " Row(Biopsy=0.0, prediction=0.0),\n",
       " Row(Biopsy=0.0, prediction=0.0),\n",
       " Row(Biopsy=0.0, prediction=0.0),\n",
       " Row(Biopsy=0.0, prediction=0.0),\n",
       " Row(Biopsy=0.0, prediction=0.0),\n",
       " Row(Biopsy=0.0, prediction=0.0),\n",
       " Row(Biopsy=0.0, prediction=0.0),\n",
       " Row(Biopsy=0.0, prediction=0.0),\n",
       " Row(Biopsy=0.0, prediction=0.0),\n",
       " Row(Biopsy=0.0, prediction=0.0),\n",
       " Row(Biopsy=0.0, prediction=0.0),\n",
       " Row(Biopsy=0.0, prediction=0.0),\n",
       " Row(Biopsy=0.0, prediction=0.0),\n",
       " Row(Biopsy=0.0, prediction=0.0),\n",
       " Row(Biopsy=0.0, prediction=0.0),\n",
       " Row(Biopsy=0.0, prediction=0.0),\n",
       " Row(Biopsy=0.0, prediction=0.0),\n",
       " Row(Biopsy=0.0, prediction=0.0),\n",
       " Row(Biopsy=0.0, prediction=0.0),\n",
       " Row(Biopsy=0.0, prediction=0.0),\n",
       " Row(Biopsy=0.0, prediction=0.0),\n",
       " Row(Biopsy=0.0, prediction=0.0),\n",
       " Row(Biopsy=0.0, prediction=0.0),\n",
       " Row(Biopsy=0.0, prediction=0.0),\n",
       " Row(Biopsy=0.0, prediction=0.0),\n",
       " Row(Biopsy=0.0, prediction=0.0),\n",
       " Row(Biopsy=0.0, prediction=0.0),\n",
       " Row(Biopsy=0.0, prediction=0.0),\n",
       " Row(Biopsy=0.0, prediction=0.0),\n",
       " Row(Biopsy=0.0, prediction=0.0),\n",
       " Row(Biopsy=0.0, prediction=0.0),\n",
       " Row(Biopsy=0.0, prediction=0.0),\n",
       " Row(Biopsy=0.0, prediction=0.0),\n",
       " Row(Biopsy=0.0, prediction=0.0),\n",
       " Row(Biopsy=0.0, prediction=0.0),\n",
       " Row(Biopsy=0.0, prediction=0.0),\n",
       " Row(Biopsy=0.0, prediction=0.0),\n",
       " Row(Biopsy=0.0, prediction=0.0),\n",
       " Row(Biopsy=0.0, prediction=0.0),\n",
       " Row(Biopsy=0.0, prediction=0.0),\n",
       " Row(Biopsy=0.0, prediction=0.0),\n",
       " Row(Biopsy=0.0, prediction=0.0),\n",
       " Row(Biopsy=0.0, prediction=0.0),\n",
       " Row(Biopsy=0.0, prediction=0.0),\n",
       " Row(Biopsy=0.0, prediction=0.0),\n",
       " Row(Biopsy=0.0, prediction=0.0),\n",
       " Row(Biopsy=0.0, prediction=0.0),\n",
       " Row(Biopsy=0.0, prediction=0.0),\n",
       " Row(Biopsy=0.0, prediction=0.0),\n",
       " Row(Biopsy=0.0, prediction=0.0),\n",
       " Row(Biopsy=0.0, prediction=0.0),\n",
       " Row(Biopsy=0.0, prediction=0.0),\n",
       " Row(Biopsy=0.0, prediction=0.0),\n",
       " Row(Biopsy=0.0, prediction=0.0),\n",
       " Row(Biopsy=0.0, prediction=0.0),\n",
       " Row(Biopsy=0.0, prediction=0.0),\n",
       " Row(Biopsy=0.0, prediction=0.0),\n",
       " Row(Biopsy=0.0, prediction=0.0),\n",
       " Row(Biopsy=1.0, prediction=0.0),\n",
       " Row(Biopsy=0.0, prediction=0.0),\n",
       " Row(Biopsy=0.0, prediction=0.0),\n",
       " Row(Biopsy=0.0, prediction=0.0),\n",
       " Row(Biopsy=0.0, prediction=0.0),\n",
       " Row(Biopsy=0.0, prediction=0.0),\n",
       " Row(Biopsy=0.0, prediction=0.0),\n",
       " Row(Biopsy=0.0, prediction=0.0),\n",
       " Row(Biopsy=0.0, prediction=0.0),\n",
       " Row(Biopsy=0.0, prediction=0.0),\n",
       " Row(Biopsy=0.0, prediction=0.0),\n",
       " Row(Biopsy=0.0, prediction=0.0),\n",
       " Row(Biopsy=0.0, prediction=0.0),\n",
       " Row(Biopsy=0.0, prediction=0.0),\n",
       " Row(Biopsy=0.0, prediction=0.0),\n",
       " Row(Biopsy=0.0, prediction=0.0),\n",
       " Row(Biopsy=0.0, prediction=0.0),\n",
       " Row(Biopsy=0.0, prediction=0.0),\n",
       " Row(Biopsy=0.0, prediction=0.0),\n",
       " Row(Biopsy=0.0, prediction=0.0),\n",
       " Row(Biopsy=0.0, prediction=0.0),\n",
       " Row(Biopsy=0.0, prediction=1.0),\n",
       " Row(Biopsy=1.0, prediction=1.0),\n",
       " Row(Biopsy=0.0, prediction=1.0),\n",
       " Row(Biopsy=0.0, prediction=0.0),\n",
       " Row(Biopsy=0.0, prediction=0.0),\n",
       " Row(Biopsy=0.0, prediction=0.0),\n",
       " Row(Biopsy=0.0, prediction=0.0),\n",
       " Row(Biopsy=0.0, prediction=0.0),\n",
       " Row(Biopsy=0.0, prediction=0.0),\n",
       " Row(Biopsy=0.0, prediction=0.0),\n",
       " Row(Biopsy=0.0, prediction=0.0),\n",
       " Row(Biopsy=0.0, prediction=0.0),\n",
       " Row(Biopsy=0.0, prediction=0.0),\n",
       " Row(Biopsy=0.0, prediction=0.0),\n",
       " Row(Biopsy=0.0, prediction=0.0),\n",
       " Row(Biopsy=0.0, prediction=0.0),\n",
       " Row(Biopsy=0.0, prediction=0.0),\n",
       " Row(Biopsy=0.0, prediction=0.0),\n",
       " Row(Biopsy=0.0, prediction=0.0),\n",
       " Row(Biopsy=0.0, prediction=0.0),\n",
       " Row(Biopsy=0.0, prediction=0.0),\n",
       " Row(Biopsy=0.0, prediction=0.0),\n",
       " Row(Biopsy=0.0, prediction=0.0),\n",
       " Row(Biopsy=0.0, prediction=0.0),\n",
       " Row(Biopsy=0.0, prediction=0.0),\n",
       " Row(Biopsy=0.0, prediction=0.0),\n",
       " Row(Biopsy=0.0, prediction=0.0),\n",
       " Row(Biopsy=0.0, prediction=0.0),\n",
       " Row(Biopsy=0.0, prediction=0.0),\n",
       " Row(Biopsy=0.0, prediction=0.0),\n",
       " Row(Biopsy=0.0, prediction=0.0),\n",
       " Row(Biopsy=0.0, prediction=0.0),\n",
       " Row(Biopsy=0.0, prediction=0.0),\n",
       " Row(Biopsy=0.0, prediction=0.0),\n",
       " Row(Biopsy=0.0, prediction=0.0),\n",
       " Row(Biopsy=0.0, prediction=0.0),\n",
       " Row(Biopsy=0.0, prediction=0.0),\n",
       " Row(Biopsy=0.0, prediction=0.0),\n",
       " Row(Biopsy=0.0, prediction=0.0),\n",
       " Row(Biopsy=0.0, prediction=0.0),\n",
       " Row(Biopsy=0.0, prediction=0.0),\n",
       " Row(Biopsy=0.0, prediction=0.0),\n",
       " Row(Biopsy=0.0, prediction=0.0),\n",
       " Row(Biopsy=0.0, prediction=0.0),\n",
       " Row(Biopsy=0.0, prediction=0.0),\n",
       " Row(Biopsy=0.0, prediction=0.0),\n",
       " Row(Biopsy=0.0, prediction=0.0),\n",
       " Row(Biopsy=0.0, prediction=0.0),\n",
       " Row(Biopsy=0.0, prediction=0.0),\n",
       " Row(Biopsy=0.0, prediction=0.0),\n",
       " Row(Biopsy=0.0, prediction=0.0),\n",
       " Row(Biopsy=0.0, prediction=0.0),\n",
       " Row(Biopsy=0.0, prediction=0.0),\n",
       " Row(Biopsy=0.0, prediction=0.0),\n",
       " Row(Biopsy=0.0, prediction=0.0),\n",
       " Row(Biopsy=0.0, prediction=0.0),\n",
       " Row(Biopsy=0.0, prediction=0.0),\n",
       " Row(Biopsy=0.0, prediction=0.0),\n",
       " Row(Biopsy=0.0, prediction=0.0),\n",
       " Row(Biopsy=0.0, prediction=0.0),\n",
       " Row(Biopsy=0.0, prediction=0.0),\n",
       " Row(Biopsy=0.0, prediction=0.0),\n",
       " Row(Biopsy=0.0, prediction=0.0),\n",
       " Row(Biopsy=0.0, prediction=0.0),\n",
       " Row(Biopsy=0.0, prediction=0.0),\n",
       " Row(Biopsy=0.0, prediction=0.0),\n",
       " Row(Biopsy=0.0, prediction=0.0),\n",
       " Row(Biopsy=0.0, prediction=0.0),\n",
       " Row(Biopsy=0.0, prediction=0.0),\n",
       " Row(Biopsy=0.0, prediction=0.0),\n",
       " Row(Biopsy=0.0, prediction=0.0),\n",
       " Row(Biopsy=0.0, prediction=0.0),\n",
       " Row(Biopsy=0.0, prediction=0.0),\n",
       " Row(Biopsy=0.0, prediction=0.0),\n",
       " Row(Biopsy=0.0, prediction=0.0),\n",
       " Row(Biopsy=0.0, prediction=0.0),\n",
       " Row(Biopsy=0.0, prediction=0.0),\n",
       " Row(Biopsy=0.0, prediction=0.0),\n",
       " Row(Biopsy=0.0, prediction=0.0),\n",
       " Row(Biopsy=0.0, prediction=0.0),\n",
       " Row(Biopsy=0.0, prediction=0.0),\n",
       " Row(Biopsy=0.0, prediction=0.0),\n",
       " Row(Biopsy=0.0, prediction=0.0),\n",
       " Row(Biopsy=0.0, prediction=0.0),\n",
       " Row(Biopsy=0.0, prediction=0.0),\n",
       " Row(Biopsy=0.0, prediction=0.0),\n",
       " Row(Biopsy=0.0, prediction=0.0),\n",
       " Row(Biopsy=0.0, prediction=0.0),\n",
       " Row(Biopsy=0.0, prediction=0.0),\n",
       " Row(Biopsy=0.0, prediction=0.0),\n",
       " Row(Biopsy=0.0, prediction=0.0),\n",
       " Row(Biopsy=0.0, prediction=0.0),\n",
       " Row(Biopsy=0.0, prediction=0.0),\n",
       " Row(Biopsy=0.0, prediction=0.0),\n",
       " Row(Biopsy=0.0, prediction=0.0),\n",
       " Row(Biopsy=0.0, prediction=0.0),\n",
       " Row(Biopsy=0.0, prediction=0.0),\n",
       " Row(Biopsy=0.0, prediction=0.0),\n",
       " Row(Biopsy=0.0, prediction=0.0),\n",
       " Row(Biopsy=0.0, prediction=0.0),\n",
       " Row(Biopsy=0.0, prediction=0.0),\n",
       " Row(Biopsy=0.0, prediction=0.0),\n",
       " Row(Biopsy=0.0, prediction=0.0),\n",
       " Row(Biopsy=0.0, prediction=0.0),\n",
       " Row(Biopsy=0.0, prediction=0.0),\n",
       " Row(Biopsy=0.0, prediction=0.0),\n",
       " Row(Biopsy=0.0, prediction=0.0),\n",
       " Row(Biopsy=0.0, prediction=0.0),\n",
       " Row(Biopsy=0.0, prediction=0.0),\n",
       " Row(Biopsy=0.0, prediction=0.0),\n",
       " Row(Biopsy=0.0, prediction=0.0),\n",
       " Row(Biopsy=0.0, prediction=0.0),\n",
       " Row(Biopsy=0.0, prediction=0.0),\n",
       " Row(Biopsy=0.0, prediction=0.0),\n",
       " Row(Biopsy=0.0, prediction=0.0),\n",
       " Row(Biopsy=0.0, prediction=0.0),\n",
       " Row(Biopsy=0.0, prediction=0.0),\n",
       " Row(Biopsy=0.0, prediction=0.0),\n",
       " Row(Biopsy=0.0, prediction=0.0),\n",
       " Row(Biopsy=0.0, prediction=0.0),\n",
       " Row(Biopsy=0.0, prediction=0.0),\n",
       " Row(Biopsy=0.0, prediction=0.0),\n",
       " Row(Biopsy=0.0, prediction=0.0),\n",
       " Row(Biopsy=0.0, prediction=0.0),\n",
       " Row(Biopsy=0.0, prediction=0.0),\n",
       " Row(Biopsy=0.0, prediction=0.0),\n",
       " Row(Biopsy=0.0, prediction=0.0),\n",
       " Row(Biopsy=0.0, prediction=0.0),\n",
       " Row(Biopsy=0.0, prediction=0.0),\n",
       " Row(Biopsy=0.0, prediction=0.0),\n",
       " Row(Biopsy=1.0, prediction=1.0),\n",
       " Row(Biopsy=0.0, prediction=0.0),\n",
       " Row(Biopsy=0.0, prediction=0.0),\n",
       " Row(Biopsy=0.0, prediction=0.0),\n",
       " Row(Biopsy=0.0, prediction=0.0),\n",
       " Row(Biopsy=0.0, prediction=0.0),\n",
       " Row(Biopsy=1.0, prediction=1.0),\n",
       " Row(Biopsy=1.0, prediction=1.0),\n",
       " Row(Biopsy=1.0, prediction=1.0),\n",
       " Row(Biopsy=0.0, prediction=1.0),\n",
       " Row(Biopsy=1.0, prediction=1.0),\n",
       " Row(Biopsy=0.0, prediction=0.0),\n",
       " Row(Biopsy=1.0, prediction=0.0),\n",
       " Row(Biopsy=1.0, prediction=0.0),\n",
       " Row(Biopsy=0.0, prediction=0.0),\n",
       " Row(Biopsy=0.0, prediction=0.0),\n",
       " Row(Biopsy=0.0, prediction=0.0),\n",
       " Row(Biopsy=0.0, prediction=0.0),\n",
       " Row(Biopsy=1.0, prediction=1.0),\n",
       " Row(Biopsy=0.0, prediction=0.0),\n",
       " Row(Biopsy=0.0, prediction=0.0),\n",
       " Row(Biopsy=0.0, prediction=0.0),\n",
       " Row(Biopsy=0.0, prediction=0.0),\n",
       " Row(Biopsy=0.0, prediction=0.0),\n",
       " Row(Biopsy=0.0, prediction=0.0),\n",
       " Row(Biopsy=1.0, prediction=1.0),\n",
       " Row(Biopsy=1.0, prediction=1.0),\n",
       " Row(Biopsy=0.0, prediction=1.0),\n",
       " Row(Biopsy=0.0, prediction=1.0),\n",
       " Row(Biopsy=1.0, prediction=1.0),\n",
       " Row(Biopsy=1.0, prediction=1.0),\n",
       " Row(Biopsy=0.0, prediction=0.0),\n",
       " Row(Biopsy=0.0, prediction=0.0),\n",
       " Row(Biopsy=0.0, prediction=0.0),\n",
       " Row(Biopsy=0.0, prediction=0.0),\n",
       " Row(Biopsy=0.0, prediction=0.0),\n",
       " Row(Biopsy=0.0, prediction=0.0),\n",
       " Row(Biopsy=0.0, prediction=0.0),\n",
       " Row(Biopsy=0.0, prediction=0.0),\n",
       " Row(Biopsy=0.0, prediction=0.0),\n",
       " Row(Biopsy=0.0, prediction=0.0),\n",
       " Row(Biopsy=0.0, prediction=0.0),\n",
       " Row(Biopsy=0.0, prediction=0.0)]"
      ]
     },
     "execution_count": 35,
     "metadata": {},
     "output_type": "execute_result"
    }
   ],
   "source": [
    "#compute raw scores on the test set\n",
    "predictionAndLabels = prediction_test.select(\"Biopsy\",\"prediction\").rdd\n",
    "predictionAndLabels.collect()\n"
   ]
  },
  {
   "cell_type": "code",
   "execution_count": 36,
   "id": "d942006f",
   "metadata": {},
   "outputs": [
    {
     "name": "stderr",
     "output_type": "stream",
     "text": [
      "C:\\Users\\chiam\\OneDrive\\Documents\\spark\\spark-3.2.1-bin-hadoop3.2\\python\\pyspark\\sql\\context.py:125: FutureWarning: Deprecated in 3.0.0. Use SparkSession.builder.getOrCreate() instead.\n",
      "  warnings.warn(\n"
     ]
    }
   ],
   "source": [
    "metrics = BinaryClassificationMetrics(predictionAndLabels)\n"
   ]
  },
  {
   "cell_type": "code",
   "execution_count": 37,
   "id": "f32d54d9",
   "metadata": {},
   "outputs": [
    {
     "name": "stdout",
     "output_type": "stream",
     "text": [
      "Area under ROC = 0.8374208860759493\n"
     ]
    }
   ],
   "source": [
    "#Area under ROC curve\n",
    "print(\"Area under ROC = %s\" % metrics.areaUnderROC)\n"
   ]
  },
  {
   "cell_type": "code",
   "execution_count": 38,
   "id": "4e073b34",
   "metadata": {},
   "outputs": [
    {
     "name": "stdout",
     "output_type": "stream",
     "text": [
      "Logistic Reg Accuracy =  0.9683794466403162\n"
     ]
    }
   ],
   "source": [
    "evaluator = MulticlassClassificationEvaluator(labelCol = \"Biopsy\", predictionCol = \"prediction\", metricName = \"accuracy\")\n",
    "accuracy_log_reg = evaluator.evaluate(prediction_test)\n",
    "print(\"Logistic Reg Accuracy = \",accuracy_log_reg)"
   ]
  },
  {
   "cell_type": "code",
   "execution_count": null,
   "id": "8995edfb",
   "metadata": {},
   "outputs": [],
   "source": []
  },
  {
   "cell_type": "code",
   "execution_count": 39,
   "id": "01cc351a",
   "metadata": {},
   "outputs": [
    {
     "data": {
      "text/plain": [
       "NaiveBayesModel: uid=NaiveBayes_cf409dd69025, modelType=multinomial, numClasses=2, numFeatures=33"
      ]
     },
     "execution_count": 39,
     "metadata": {},
     "output_type": "execute_result"
    }
   ],
   "source": [
    "#NAIVEBAYES\n",
    "naive_bayes = NaiveBayes(labelCol = \"Biopsy\", featuresCol = \"Scaled_features\", smoothing = 1.0)\n",
    "\n",
    "model = naive_bayes.fit(train_cervical)\n",
    "model\n",
    "\n"
   ]
  },
  {
   "cell_type": "code",
   "execution_count": 40,
   "id": "e7a462d5",
   "metadata": {},
   "outputs": [
    {
     "name": "stdout",
     "output_type": "stream",
     "text": [
      "+--------------------+------+--------------------+--------------------+----------+\n",
      "|     Scaled_features|Biopsy|       rawPrediction|         probability|prediction|\n",
      "+--------------------+------+--------------------+--------------------+----------+\n",
      "|(33,[0,1,2],[1.52...|   0.0|[-9.5808914477509...|[0.99863451852707...|       0.0|\n",
      "|(33,[0,1,2],[2.70...|   0.0|[-14.011632583146...|[0.99965887485007...|       0.0|\n",
      "|(33,[0,1,2],[4.00...|   0.0|[-19.056981644766...|[0.99993557187088...|       0.0|\n",
      "|(33,[0,1,2,3],[1....|   0.0|[-13.705364689730...|[0.99945864115312...|       0.0|\n",
      "|(33,[0,1,2,3],[1....|   0.0|[-13.469717378786...|[0.99948296825971...|       0.0|\n",
      "|(33,[0,1,2,3],[1....|   0.0|[-12.160712023854...|[0.99929381819685...|       0.0|\n",
      "|(33,[0,1,2,3],[1....|   0.0|[-12.565039958075...|[0.99943396628588...|       0.0|\n",
      "|(33,[0,1,2,3],[1....|   0.0|[-13.679997370788...|[0.99951188313946...|       0.0|\n",
      "|(33,[0,1,2,3],[1....|   0.0|[-15.434930028666...|[0.99964675702078...|       0.0|\n",
      "|(33,[0,1,2,3],[1....|   0.0|[-14.084325305010...|[0.99960877123522...|       0.0|\n",
      "|(33,[0,1,2,3],[1....|   0.0|[-17.358543309822...|[0.99980433218730...|       0.0|\n",
      "|(33,[0,1,2,3],[1....|   0.0|[-12.370992015856...|[0.99933330419378...|       0.0|\n",
      "|(33,[0,1,2,3],[1....|   0.0|[-12.775319950077...|[0.99946562012443...|       0.0|\n",
      "|(33,[0,1,2,3],[1....|   0.0|[-12.775319950077...|[0.99946562012443...|       0.0|\n",
      "|(33,[0,1,2,3],[2....|   0.0|[-13.389927876301...|[0.99959564250066...|       0.0|\n",
      "|(33,[0,1,2,3],[2....|   0.0|[-14.546484657738...|[0.99956995909379...|       0.0|\n",
      "|(33,[0,1,2,3],[2....|   0.0|[-14.004535802524...|[0.99969403823113...|       0.0|\n",
      "|(33,[0,1,2,3],[2....|   0.0|[-14.408863736745...|[0.99975477856916...|       0.0|\n",
      "|(33,[0,1,2,3],[2....|   0.0|[-14.715165281015...|[0.99967081513849...|       0.0|\n",
      "|(33,[0,1,2,3],[2....|   0.0|[-15.969748452404...|[0.99979097682311...|       0.0|\n",
      "+--------------------+------+--------------------+--------------------+----------+\n",
      "only showing top 20 rows\n",
      "\n"
     ]
    }
   ],
   "source": [
    "#select example rows to display\n",
    "prediction_test = model.transform(test_cervical)\n",
    "prediction_test.show()\n",
    "\n"
   ]
  },
  {
   "cell_type": "code",
   "execution_count": 41,
   "id": "36ec405a",
   "metadata": {},
   "outputs": [
    {
     "name": "stdout",
     "output_type": "stream",
     "text": [
      "+------+----------+\n",
      "|Biopsy|prediction|\n",
      "+------+----------+\n",
      "|   0.0|       0.0|\n",
      "|   0.0|       0.0|\n",
      "|   0.0|       0.0|\n",
      "|   0.0|       0.0|\n",
      "|   0.0|       0.0|\n",
      "|   0.0|       0.0|\n",
      "|   0.0|       0.0|\n",
      "|   0.0|       0.0|\n",
      "|   0.0|       0.0|\n",
      "|   0.0|       0.0|\n",
      "+------+----------+\n",
      "only showing top 10 rows\n",
      "\n"
     ]
    }
   ],
   "source": [
    "prediction_test.select(\"Biopsy\",\"prediction\").show(10)\n",
    "\n",
    "predictionAndLabels = prediction_test.select(\"Biopsy\",\"prediction\").rdd\n",
    "\n"
   ]
  },
  {
   "cell_type": "code",
   "execution_count": 42,
   "id": "f115726d",
   "metadata": {},
   "outputs": [],
   "source": [
    "metrics = BinaryClassificationMetrics(predictionAndLabels)\n",
    "\n"
   ]
  },
  {
   "cell_type": "code",
   "execution_count": 43,
   "id": "75c8180b",
   "metadata": {},
   "outputs": [
    {
     "name": "stdout",
     "output_type": "stream",
     "text": [
      "Area under ROC = 0.7049305320230431\n"
     ]
    }
   ],
   "source": [
    "#Area under ROC curve\n",
    "print(\"Area under ROC = %s\" % metrics.areaUnderROC)"
   ]
  },
  {
   "cell_type": "code",
   "execution_count": 44,
   "id": "d1de44e4",
   "metadata": {},
   "outputs": [
    {
     "name": "stdout",
     "output_type": "stream",
     "text": [
      "Naive Bayes Accuracy =  0.9288537549407114\n"
     ]
    }
   ],
   "source": [
    "#Select (prediction, true label) and compute test error\n",
    "evaluator = MulticlassClassificationEvaluator(labelCol = \"Biopsy\", predictionCol = \"prediction\", metricName = \"accuracy\")\n",
    "accuracy_naive_bayes = evaluator.evaluate(prediction_test)\n",
    "print(\"Naive Bayes Accuracy = \",accuracy_naive_bayes)\n"
   ]
  },
  {
   "cell_type": "code",
   "execution_count": null,
   "id": "6c4d36c6",
   "metadata": {},
   "outputs": [],
   "source": []
  },
  {
   "cell_type": "code",
   "execution_count": 45,
   "id": "0414097e",
   "metadata": {},
   "outputs": [
    {
     "data": {
      "text/plain": [
       "RandomForestClassificationModel: uid=RandomForestClassifier_9cdfd271d805, numTrees=40, numClasses=2, numFeatures=33"
      ]
     },
     "execution_count": 45,
     "metadata": {},
     "output_type": "execute_result"
    }
   ],
   "source": [
    "#RANDOM FOREST CLASSIFIER\n",
    "\n",
    "random_forest_classifier = RandomForestClassifier(labelCol = \"Biopsy\", featuresCol = \"Scaled_features\", numTrees = 40)\n",
    "model = random_forest_classifier.fit(train_cervical)\n",
    "model\n",
    "\n"
   ]
  },
  {
   "cell_type": "code",
   "execution_count": 46,
   "id": "49b3fa66",
   "metadata": {},
   "outputs": [
    {
     "name": "stdout",
     "output_type": "stream",
     "text": [
      "+--------------------+------+--------------------+--------------------+----------+\n",
      "|     Scaled_features|Biopsy|       rawPrediction|         probability|prediction|\n",
      "+--------------------+------+--------------------+--------------------+----------+\n",
      "|(33,[0,1,2],[1.52...|   0.0|[38.5186909633311...|[0.96296727408327...|       0.0|\n",
      "|(33,[0,1,2],[2.70...|   0.0|[39.5495904342305...|[0.98873976085576...|       0.0|\n",
      "|(33,[0,1,2],[4.00...|   0.0|[39.450881989533,...|[0.98627204973832...|       0.0|\n",
      "|(33,[0,1,2,3],[1....|   0.0|[39.5052078172636...|[0.98763019543159...|       0.0|\n",
      "|(33,[0,1,2,3],[1....|   0.0|[39.5052078172636...|[0.98763019543159...|       0.0|\n",
      "|(33,[0,1,2,3],[1....|   0.0|[39.5052078172636...|[0.98763019543159...|       0.0|\n",
      "|(33,[0,1,2,3],[1....|   0.0|[39.5052078172636...|[0.98763019543159...|       0.0|\n",
      "|(33,[0,1,2,3],[1....|   0.0|[39.5052078172636...|[0.98763019543159...|       0.0|\n",
      "|(33,[0,1,2,3],[1....|   0.0|[39.5052078172636...|[0.98763019543159...|       0.0|\n",
      "|(33,[0,1,2,3],[1....|   0.0|[39.5052078172636...|[0.98763019543159...|       0.0|\n",
      "|(33,[0,1,2,3],[1....|   0.0|[39.5052078172636...|[0.98763019543159...|       0.0|\n",
      "|(33,[0,1,2,3],[1....|   0.0|[39.5052078172636...|[0.98763019543159...|       0.0|\n",
      "|(33,[0,1,2,3],[1....|   0.0|[39.5052078172636...|[0.98763019543159...|       0.0|\n",
      "|(33,[0,1,2,3],[1....|   0.0|[39.5052078172636...|[0.98763019543159...|       0.0|\n",
      "|(33,[0,1,2,3],[2....|   0.0|[39.5052078172636...|[0.98763019543159...|       0.0|\n",
      "|(33,[0,1,2,3],[2....|   0.0|[39.5052078172636...|[0.98763019543159...|       0.0|\n",
      "|(33,[0,1,2,3],[2....|   0.0|[39.4452330984588...|[0.98613082746147...|       0.0|\n",
      "|(33,[0,1,2,3],[2....|   0.0|[39.4064993725661...|[0.98516248431415...|       0.0|\n",
      "|(33,[0,1,2,3],[2....|   0.0|[39.5052078172636...|[0.98763019543159...|       0.0|\n",
      "|(33,[0,1,2,3],[2....|   0.0|[39.4452330984588...|[0.98613082746147...|       0.0|\n",
      "+--------------------+------+--------------------+--------------------+----------+\n",
      "only showing top 20 rows\n",
      "\n"
     ]
    }
   ],
   "source": [
    "prediction_test = model.transform(test_cervical)\n",
    "prediction_test.show()\n",
    "\n"
   ]
  },
  {
   "cell_type": "code",
   "execution_count": 47,
   "id": "7957b786",
   "metadata": {},
   "outputs": [
    {
     "name": "stdout",
     "output_type": "stream",
     "text": [
      "+------+----------+\n",
      "|Biopsy|prediction|\n",
      "+------+----------+\n",
      "|   0.0|       0.0|\n",
      "|   0.0|       0.0|\n",
      "|   0.0|       0.0|\n",
      "|   0.0|       0.0|\n",
      "|   0.0|       0.0|\n",
      "|   0.0|       0.0|\n",
      "|   0.0|       0.0|\n",
      "|   0.0|       0.0|\n",
      "|   0.0|       0.0|\n",
      "|   0.0|       0.0|\n",
      "+------+----------+\n",
      "only showing top 10 rows\n",
      "\n"
     ]
    }
   ],
   "source": [
    "prediction_test.select(\"Biopsy\",\"prediction\").show(10)\n"
   ]
  },
  {
   "cell_type": "code",
   "execution_count": 48,
   "id": "50aa4e36",
   "metadata": {},
   "outputs": [],
   "source": [
    "predictionAndLabels = prediction_test.select(\"Biopsy\",\"prediction\").rdd.map(lambda row: row[0:])\n",
    "\n",
    "metrics = BinaryClassificationMetrics(predictionAndLabels)\n",
    "\n"
   ]
  },
  {
   "cell_type": "code",
   "execution_count": 49,
   "id": "0ca0c12d",
   "metadata": {},
   "outputs": [
    {
     "name": "stdout",
     "output_type": "stream",
     "text": [
      "Area under ROC = 0.8529116465863453\n"
     ]
    }
   ],
   "source": [
    "#Area under ROC curve\n",
    "print(\"Area under ROC = %s\" % metrics.areaUnderROC)\n",
    "\n",
    "\n"
   ]
  },
  {
   "cell_type": "code",
   "execution_count": 50,
   "id": "b75ab455",
   "metadata": {},
   "outputs": [
    {
     "name": "stdout",
     "output_type": "stream",
     "text": [
      "Random Forest Accuracy =  0.9525691699604744\n"
     ]
    }
   ],
   "source": [
    "#Select (prediction, true label) and compute test error\n",
    "evaluator = MulticlassClassificationEvaluator(labelCol = \"Biopsy\", predictionCol = \"prediction\", metricName = \"accuracy\")\n",
    "accuracy_random_forest = evaluator.evaluate(prediction_test)\n",
    "print(\"Random Forest Accuracy = \",accuracy_random_forest)\n",
    "\n",
    "\n",
    "\n"
   ]
  },
  {
   "cell_type": "code",
   "execution_count": 51,
   "id": "2d8654ce",
   "metadata": {},
   "outputs": [
    {
     "name": "stdout",
     "output_type": "stream",
     "text": [
      "Accuracy of Logistics Reg =  0.9683794466403162\n",
      "Accuracy of Naive Bayes   =  0.9288537549407114\n",
      "Accuracy of Random Forest =  0.9525691699604744\n"
     ]
    }
   ],
   "source": [
    "print(\"Accuracy of Logistics Reg = \",accuracy_log_reg)\n",
    "print(\"Accuracy of Naive Bayes   = \",accuracy_naive_bayes)\n",
    "print(\"Accuracy of Random Forest = \",accuracy_random_forest)"
   ]
  },
  {
   "cell_type": "code",
   "execution_count": null,
   "id": "192b1c18",
   "metadata": {},
   "outputs": [],
   "source": []
  },
  {
   "cell_type": "code",
   "execution_count": null,
   "id": "a115b866",
   "metadata": {},
   "outputs": [],
   "source": []
  },
  {
   "cell_type": "code",
   "execution_count": 295,
   "id": "11e8ce2f",
   "metadata": {},
   "outputs": [],
   "source": [
    "#KMEANS Clustering\n",
    "from pyspark.ml.clustering import KMeans\n",
    "from pyspark.ml.evaluation import ClusteringEvaluator\n",
    "\n",
    "from pyspark.ml.feature import VectorAssembler\n",
    "from pyspark.ml.feature import StandardScaler\n",
    "from pyspark.ml.feature import StringIndexer\n"
   ]
  },
  {
   "cell_type": "code",
   "execution_count": 296,
   "id": "8b2b86e7",
   "metadata": {},
   "outputs": [],
   "source": [
    "#identify observation clusters by applying K-means clustering on the data variables: age, number of sexual partners, \n",
    "#age of first sexual experience,number of pregnancies,hormonal contraceptives(years), HPV STD  "
   ]
  },
  {
   "cell_type": "code",
   "execution_count": 291,
   "id": "1d972aa4",
   "metadata": {},
   "outputs": [
    {
     "data": {
      "text/plain": [
       "['Age',\n",
       " 'Number of sexual partners',\n",
       " 'First sexual intercourse',\n",
       " 'Num of pregnancies',\n",
       " 'Smokes',\n",
       " 'Smokes (years)',\n",
       " 'Smokes (packs/year)',\n",
       " 'Hormonal Contraceptives',\n",
       " 'Hormonal Contraceptives (years)',\n",
       " 'IUD',\n",
       " 'IUD (years)',\n",
       " 'STDs',\n",
       " 'STDs (number)',\n",
       " 'STDs:condylomatosis',\n",
       " 'STDs:cervical condylomatosis',\n",
       " 'STDs:vaginal condylomatosis',\n",
       " 'STDs:vulvo-perineal condylomatosis',\n",
       " 'STDs:syphilis',\n",
       " 'STDs:pelvic inflammatory disease',\n",
       " 'STDs:genital herpes',\n",
       " 'STDs:molluscum contagiosum',\n",
       " 'STDs:AIDS',\n",
       " 'STDs:HIV',\n",
       " 'STDs:Hepatitis B',\n",
       " 'STDs:HPV',\n",
       " 'STDs: Number of diagnosis',\n",
       " 'Dx:Cancer',\n",
       " 'Dx:CIN',\n",
       " 'Dx:HPV',\n",
       " 'Dx',\n",
       " 'Hinselmann',\n",
       " 'Schiller',\n",
       " 'Citology',\n",
       " 'Biopsy',\n",
       " 'features',\n",
       " 'Scaled_features']"
      ]
     },
     "execution_count": 291,
     "metadata": {},
     "output_type": "execute_result"
    }
   ],
   "source": [
    "cervical.columns"
   ]
  },
  {
   "cell_type": "code",
   "execution_count": 297,
   "id": "85860536",
   "metadata": {},
   "outputs": [
    {
     "name": "stdout",
     "output_type": "stream",
     "text": [
      "+----+-------------------------+------------------------+------------------+-------------------------------+--------+------+\n",
      "| Age|Number of sexual partners|First sexual intercourse|Num of pregnancies|Hormonal Contraceptives (years)|STDs:HPV|Biopsy|\n",
      "+----+-------------------------+------------------------+------------------+-------------------------------+--------+------+\n",
      "|18.0|                      4.0|                    15.0|               1.0|                            0.0|     0.0|   0.0|\n",
      "|15.0|                      1.0|                    14.0|               1.0|                            0.0|     0.0|   0.0|\n",
      "|34.0|                      1.0|                 16.9953|               1.0|                            0.0|     0.0|   0.0|\n",
      "|52.0|                      5.0|                    16.0|               4.0|                            3.0|     0.0|   0.0|\n",
      "|46.0|                      3.0|                    21.0|               4.0|                           15.0|     0.0|   0.0|\n",
      "|42.0|                      3.0|                    23.0|               2.0|                            0.0|     0.0|   0.0|\n",
      "|51.0|                      3.0|                    17.0|               6.0|                            0.0|     0.0|   1.0|\n",
      "|26.0|                      1.0|                    26.0|               3.0|                            2.0|     0.0|   0.0|\n",
      "|45.0|                      1.0|                    20.0|               5.0|                            0.0|     0.0|   0.0|\n",
      "|44.0|                      3.0|                    15.0|          2.275561|                            0.0|     0.0|   0.0|\n",
      "|44.0|                      3.0|                    26.0|               4.0|                            2.0|     0.0|   0.0|\n",
      "|27.0|                      1.0|                    17.0|               3.0|                            8.0|     0.0|   0.0|\n",
      "|45.0|                      4.0|                    14.0|               6.0|                           10.0|     0.0|   0.0|\n",
      "|44.0|                      2.0|                    25.0|               2.0|                            5.0|     0.0|   0.0|\n",
      "|43.0|                      2.0|                    18.0|               5.0|                            0.0|     0.0|   0.0|\n",
      "|40.0|                      3.0|                    18.0|               2.0|                           15.0|     0.0|   0.0|\n",
      "|41.0|                      4.0|                    21.0|               3.0|                           0.25|     0.0|   0.0|\n",
      "|43.0|                      3.0|                    15.0|               8.0|                            3.0|     0.0|   0.0|\n",
      "|42.0|                      2.0|                    20.0|          2.275561|                            7.0|     0.0|   0.0|\n",
      "|40.0|                      2.0|                    27.0|          2.275561|                            0.0|     0.0|   0.0|\n",
      "+----+-------------------------+------------------------+------------------+-------------------------------+--------+------+\n",
      "only showing top 20 rows\n",
      "\n"
     ]
    }
   ],
   "source": [
    "cervical = cervical.select('Age',\n",
    " 'Number of sexual partners',\n",
    " 'First sexual intercourse',\n",
    " 'Num of pregnancies',\n",
    " 'Hormonal Contraceptives (years)',\n",
    " 'STDs:HPV',\n",
    " 'Biopsy')\n",
    "cervical.show()"
   ]
  },
  {
   "cell_type": "code",
   "execution_count": 298,
   "id": "b97b51a2",
   "metadata": {},
   "outputs": [
    {
     "name": "stdout",
     "output_type": "stream",
     "text": [
      "+----+-------------------------+------------------------+------------------+-------------------------------+--------+------+\n",
      "| Age|Number of sexual partners|First sexual intercourse|Num of pregnancies|Hormonal Contraceptives (years)|STDs:HPV|Biopsy|\n",
      "+----+-------------------------+------------------------+------------------+-------------------------------+--------+------+\n",
      "|18.0|                      4.0|                    15.0|               1.0|                            0.0|     0.0|   0.0|\n",
      "|15.0|                      1.0|                    14.0|               1.0|                            0.0|     0.0|   0.0|\n",
      "|34.0|                      1.0|                 16.9953|               1.0|                            0.0|     0.0|   0.0|\n",
      "|52.0|                      5.0|                    16.0|               4.0|                            3.0|     0.0|   0.0|\n",
      "|46.0|                      3.0|                    21.0|               4.0|                           15.0|     0.0|   0.0|\n",
      "|42.0|                      3.0|                    23.0|               2.0|                            0.0|     0.0|   0.0|\n",
      "|51.0|                      3.0|                    17.0|               6.0|                            0.0|     0.0|   1.0|\n",
      "|26.0|                      1.0|                    26.0|               3.0|                            2.0|     0.0|   0.0|\n",
      "|45.0|                      1.0|                    20.0|               5.0|                            0.0|     0.0|   0.0|\n",
      "|44.0|                      3.0|                    15.0|          2.275561|                            0.0|     0.0|   0.0|\n",
      "|44.0|                      3.0|                    26.0|               4.0|                            2.0|     0.0|   0.0|\n",
      "|27.0|                      1.0|                    17.0|               3.0|                            8.0|     0.0|   0.0|\n",
      "|45.0|                      4.0|                    14.0|               6.0|                           10.0|     0.0|   0.0|\n",
      "|44.0|                      2.0|                    25.0|               2.0|                            5.0|     0.0|   0.0|\n",
      "|43.0|                      2.0|                    18.0|               5.0|                            0.0|     0.0|   0.0|\n",
      "|40.0|                      3.0|                    18.0|               2.0|                           15.0|     0.0|   0.0|\n",
      "|41.0|                      4.0|                    21.0|               3.0|                           0.25|     0.0|   0.0|\n",
      "|43.0|                      3.0|                    15.0|               8.0|                            3.0|     0.0|   0.0|\n",
      "|42.0|                      2.0|                    20.0|          2.275561|                            7.0|     0.0|   0.0|\n",
      "|40.0|                      2.0|                    27.0|          2.275561|                            0.0|     0.0|   0.0|\n",
      "+----+-------------------------+------------------------+------------------+-------------------------------+--------+------+\n",
      "only showing top 20 rows\n",
      "\n"
     ]
    }
   ],
   "source": [
    "#Vector assembling\n",
    "cols = cervical.columns\n",
    "cols.remove(\"Biopsy\")\n",
    "assembler = VectorAssembler(inputCols = cols, outputCol = \"features\")\n",
    "cervical.show()"
   ]
  },
  {
   "cell_type": "code",
   "execution_count": 299,
   "id": "43ca51b3",
   "metadata": {},
   "outputs": [
    {
     "name": "stdout",
     "output_type": "stream",
     "text": [
      "+------------------------------------------+------+\n",
      "|features                                  |Biopsy|\n",
      "+------------------------------------------+------+\n",
      "|[18.0,4.0,15.0,1.0,0.0,0.0]               |0.0   |\n",
      "|[15.0,1.0,14.0,1.0,0.0,0.0]               |0.0   |\n",
      "|[34.0,1.0,16.99530029296875,1.0,0.0,0.0]  |0.0   |\n",
      "|[52.0,5.0,16.0,4.0,3.0,0.0]               |0.0   |\n",
      "|[46.0,3.0,21.0,4.0,15.0,0.0]              |0.0   |\n",
      "|[42.0,3.0,23.0,2.0,0.0,0.0]               |0.0   |\n",
      "|[51.0,3.0,17.0,6.0,0.0,0.0]               |1.0   |\n",
      "|[26.0,1.0,26.0,3.0,2.0,0.0]               |0.0   |\n",
      "|[45.0,1.0,20.0,5.0,0.0,0.0]               |0.0   |\n",
      "|[44.0,3.0,15.0,2.2755610942840576,0.0,0.0]|0.0   |\n",
      "|[44.0,3.0,26.0,4.0,2.0,0.0]               |0.0   |\n",
      "|[27.0,1.0,17.0,3.0,8.0,0.0]               |0.0   |\n",
      "|[45.0,4.0,14.0,6.0,10.0,0.0]              |0.0   |\n",
      "|[44.0,2.0,25.0,2.0,5.0,0.0]               |0.0   |\n",
      "|[43.0,2.0,18.0,5.0,0.0,0.0]               |0.0   |\n",
      "|[40.0,3.0,18.0,2.0,15.0,0.0]              |0.0   |\n",
      "|[41.0,4.0,21.0,3.0,0.25,0.0]              |0.0   |\n",
      "|[43.0,3.0,15.0,8.0,3.0,0.0]               |0.0   |\n",
      "|[42.0,2.0,20.0,2.2755610942840576,7.0,0.0]|0.0   |\n",
      "|[40.0,2.0,27.0,2.2755610942840576,0.0,0.0]|0.0   |\n",
      "+------------------------------------------+------+\n",
      "only showing top 20 rows\n",
      "\n"
     ]
    }
   ],
   "source": [
    "#Tranforming the dataset\n",
    "cervical = assembler.transform(cervical)\n",
    "cervical.select(\"features\",'Biopsy').show(truncate = False)"
   ]
  },
  {
   "cell_type": "code",
   "execution_count": 300,
   "id": "077f50cf",
   "metadata": {},
   "outputs": [
    {
     "name": "stdout",
     "output_type": "stream",
     "text": [
      "+-------------------------+-----+\n",
      "|Number of sexual partners|count|\n",
      "+-------------------------+-----+\n",
      "|                      9.0|    1|\n",
      "|                      5.0|   44|\n",
      "|                      7.0|    7|\n",
      "|                      2.0|  272|\n",
      "|                      3.0|  208|\n",
      "|                     10.0|    1|\n",
      "|                2.5276442|   26|\n",
      "|                      1.0|  206|\n",
      "|                      6.0|    9|\n",
      "|                      8.0|    4|\n",
      "|                     15.0|    1|\n",
      "|                      4.0|   78|\n",
      "|                     28.0|    1|\n",
      "+-------------------------+-----+\n",
      "\n"
     ]
    }
   ],
   "source": [
    "cervical.groupBy(\"Number of sexual partners\").count().show()\n"
   ]
  },
  {
   "cell_type": "code",
   "execution_count": 301,
   "id": "ac123776",
   "metadata": {},
   "outputs": [
    {
     "name": "stdout",
     "output_type": "stream",
     "text": [
      "+-------------------------+-----+\n",
      "|Number of sexual partners|count|\n",
      "+-------------------------+-----+\n",
      "|                      9.0|    1|\n",
      "|                      5.0|   44|\n",
      "|                      7.0|    7|\n",
      "|                      2.0|  272|\n",
      "|                      3.0|  208|\n",
      "|                     10.0|    1|\n",
      "|                2.5276442|   26|\n",
      "|                      1.0|  206|\n",
      "|                      6.0|    9|\n",
      "|                      8.0|    4|\n",
      "|                     15.0|    1|\n",
      "|                      4.0|   78|\n",
      "|                     28.0|    1|\n",
      "+-------------------------+-----+\n",
      "\n"
     ]
    }
   ],
   "source": [
    "cervical.groupBy(\"Number of sexual partners\").count().show()"
   ]
  },
  {
   "cell_type": "code",
   "execution_count": 302,
   "id": "54759733",
   "metadata": {},
   "outputs": [
    {
     "name": "stdout",
     "output_type": "stream",
     "text": [
      "+------+-----+\n",
      "|Biopsy|count|\n",
      "+------+-----+\n",
      "|   1.0|   55|\n",
      "|   0.0|  803|\n",
      "+------+-----+\n",
      "\n"
     ]
    }
   ],
   "source": [
    "cervical.groupBy(\"Biopsy\").count().show()"
   ]
  },
  {
   "cell_type": "code",
   "execution_count": 303,
   "id": "e4f4eb2d",
   "metadata": {},
   "outputs": [
    {
     "data": {
      "text/plain": [
       "KMeansModel: uid=KMeans_6b0a42668e7e, k=2, distanceMeasure=euclidean, numFeatures=6"
      ]
     },
     "execution_count": 303,
     "metadata": {},
     "output_type": "execute_result"
    }
   ],
   "source": [
    "kmeans = KMeans(featuresCol = \"features\", k =2)\n",
    "\n",
    "model = kmeans.fit(cervical)\n",
    "model\n",
    "\n"
   ]
  },
  {
   "cell_type": "code",
   "execution_count": 304,
   "id": "4cd5c15a",
   "metadata": {},
   "outputs": [
    {
     "name": "stdout",
     "output_type": "stream",
     "text": [
      "+----------+-----+\n",
      "|prediction|count|\n",
      "+----------+-----+\n",
      "|         1|  312|\n",
      "|         0|  546|\n",
      "+----------+-----+\n",
      "\n"
     ]
    }
   ],
   "source": [
    "model.transform(cervical).groupBy(\"prediction\").count().show()\n",
    "\n"
   ]
  },
  {
   "cell_type": "code",
   "execution_count": 305,
   "id": "1c8e4e35",
   "metadata": {},
   "outputs": [
    {
     "name": "stdout",
     "output_type": "stream",
     "text": [
      "+----+-------------------------+------------------------+------------------+-------------------------------+--------+------+--------------------+----------+\n",
      "| Age|Number of sexual partners|First sexual intercourse|Num of pregnancies|Hormonal Contraceptives (years)|STDs:HPV|Biopsy|            features|prediction|\n",
      "+----+-------------------------+------------------------+------------------+-------------------------------+--------+------+--------------------+----------+\n",
      "|18.0|                      4.0|                    15.0|               1.0|                            0.0|     0.0|   0.0|[18.0,4.0,15.0,1....|         0|\n",
      "|15.0|                      1.0|                    14.0|               1.0|                            0.0|     0.0|   0.0|[15.0,1.0,14.0,1....|         0|\n",
      "|34.0|                      1.0|                 16.9953|               1.0|                            0.0|     0.0|   0.0|[34.0,1.0,16.9953...|         1|\n",
      "|52.0|                      5.0|                    16.0|               4.0|                            3.0|     0.0|   0.0|[52.0,5.0,16.0,4....|         1|\n",
      "|46.0|                      3.0|                    21.0|               4.0|                           15.0|     0.0|   0.0|[46.0,3.0,21.0,4....|         1|\n",
      "|42.0|                      3.0|                    23.0|               2.0|                            0.0|     0.0|   0.0|[42.0,3.0,23.0,2....|         1|\n",
      "|51.0|                      3.0|                    17.0|               6.0|                            0.0|     0.0|   1.0|[51.0,3.0,17.0,6....|         1|\n",
      "|26.0|                      1.0|                    26.0|               3.0|                            2.0|     0.0|   0.0|[26.0,1.0,26.0,3....|         0|\n",
      "|45.0|                      1.0|                    20.0|               5.0|                            0.0|     0.0|   0.0|[45.0,1.0,20.0,5....|         1|\n",
      "|44.0|                      3.0|                    15.0|          2.275561|                            0.0|     0.0|   0.0|[44.0,3.0,15.0,2....|         1|\n",
      "|44.0|                      3.0|                    26.0|               4.0|                            2.0|     0.0|   0.0|[44.0,3.0,26.0,4....|         1|\n",
      "|27.0|                      1.0|                    17.0|               3.0|                            8.0|     0.0|   0.0|[27.0,1.0,17.0,3....|         0|\n",
      "|45.0|                      4.0|                    14.0|               6.0|                           10.0|     0.0|   0.0|[45.0,4.0,14.0,6....|         1|\n",
      "|44.0|                      2.0|                    25.0|               2.0|                            5.0|     0.0|   0.0|[44.0,2.0,25.0,2....|         1|\n",
      "|43.0|                      2.0|                    18.0|               5.0|                            0.0|     0.0|   0.0|[43.0,2.0,18.0,5....|         1|\n",
      "|40.0|                      3.0|                    18.0|               2.0|                           15.0|     0.0|   0.0|[40.0,3.0,18.0,2....|         1|\n",
      "|41.0|                      4.0|                    21.0|               3.0|                           0.25|     0.0|   0.0|[41.0,4.0,21.0,3....|         1|\n",
      "|43.0|                      3.0|                    15.0|               8.0|                            3.0|     0.0|   0.0|[43.0,3.0,15.0,8....|         1|\n",
      "|42.0|                      2.0|                    20.0|          2.275561|                            7.0|     0.0|   0.0|[42.0,2.0,20.0,2....|         1|\n",
      "|40.0|                      2.0|                    27.0|          2.275561|                            0.0|     0.0|   0.0|[40.0,2.0,27.0,2....|         1|\n",
      "+----+-------------------------+------------------------+------------------+-------------------------------+--------+------+--------------------+----------+\n",
      "only showing top 20 rows\n",
      "\n"
     ]
    }
   ],
   "source": [
    "predictions = model.transform(cervical)\n",
    "predictions.show()\n",
    "\n"
   ]
  },
  {
   "cell_type": "code",
   "execution_count": 306,
   "id": "6f9579a3",
   "metadata": {},
   "outputs": [
    {
     "name": "stdout",
     "output_type": "stream",
     "text": [
      "+------+----------+-----+\n",
      "|Biopsy|prediction|count|\n",
      "+------+----------+-----+\n",
      "|   1.0|         0|   31|\n",
      "|   0.0|         0|  515|\n",
      "|   0.0|         1|  288|\n",
      "|   1.0|         1|   24|\n",
      "+------+----------+-----+\n",
      "\n"
     ]
    }
   ],
   "source": [
    "predictions.groupBy(\"Biopsy\",\"prediction\").count().show()\n",
    "\n"
   ]
  },
  {
   "cell_type": "code",
   "execution_count": 307,
   "id": "db3dfea1",
   "metadata": {},
   "outputs": [
    {
     "ename": "SyntaxError",
     "evalue": "invalid syntax (Temp/ipykernel_18604/2575530022.py, line 2)",
     "output_type": "error",
     "traceback": [
      "\u001b[1;36m  File \u001b[1;32m\"C:\\Users\\chiam\\AppData\\Local\\Temp/ipykernel_18604/2575530022.py\"\u001b[1;36m, line \u001b[1;32m2\u001b[0m\n\u001b[1;33m    evaluator = new ClusteringEvaluator()\u001b[0m\n\u001b[1;37m                    ^\u001b[0m\n\u001b[1;31mSyntaxError\u001b[0m\u001b[1;31m:\u001b[0m invalid syntax\n"
     ]
    }
   ],
   "source": [
    "#Evaluate clustering by computing Silhouette score\n",
    "evaluator = new ClusteringEvaluator()\n",
    "\n",
    "silhouette = evaluator.evaluate(predictions)\n",
    "println(s\"Silhouette with squared euclidean distance = $silhouette\")"
   ]
  },
  {
   "cell_type": "code",
   "execution_count": null,
   "id": "07e9116b",
   "metadata": {},
   "outputs": [],
   "source": [
    "\n",
    "#SAMPLE\n",
    "/ Loads data.\n",
    "val dataset = spark.read.format(\"libsvm\").load(\"data/mllib/sample_kmeans_data.txt\")\n",
    "\n",
    "// Trains a k-means model.\n",
    "val kmeans = new KMeans().setK(2).setSeed(1L)\n",
    "val model = kmeans.fit(dataset)\n",
    "\n",
    "// Make predictions\n",
    "val predictions = model.transform(dataset)\n",
    "\n",
    "// Evaluate clustering by computing Silhouette score\n",
    "val evaluator = new ClusteringEvaluator()\n",
    "\n",
    "val silhouette = evaluator.evaluate(predictions)\n",
    "println(s\"Silhouette with squared euclidean distance = $silhouette\")\n",
    "\n",
    "// Shows the result.\n",
    "println(\"Cluster Centers: \")\n",
    "model.clusterCenters.foreach(println)\n",
    "\n",
    "\n",
    "\n",
    "\n",
    "\n",
    "\n",
    "\n",
    "\n",
    "\n",
    "\n",
    "\n",
    "\n",
    "\n",
    "\n"
   ]
  },
  {
   "cell_type": "code",
   "execution_count": null,
   "id": "6ebe4bcf",
   "metadata": {},
   "outputs": [],
   "source": []
  },
  {
   "cell_type": "code",
   "execution_count": null,
   "id": "d5080bef",
   "metadata": {},
   "outputs": [],
   "source": []
  },
  {
   "cell_type": "code",
   "execution_count": null,
   "id": "13a7ffc6",
   "metadata": {},
   "outputs": [],
   "source": []
  },
  {
   "cell_type": "code",
   "execution_count": null,
   "id": "341f0ace",
   "metadata": {},
   "outputs": [],
   "source": []
  },
  {
   "cell_type": "code",
   "execution_count": null,
   "id": "05697bb2",
   "metadata": {},
   "outputs": [],
   "source": []
  },
  {
   "cell_type": "code",
   "execution_count": null,
   "id": "10d93cb0",
   "metadata": {},
   "outputs": [],
   "source": []
  },
  {
   "cell_type": "code",
   "execution_count": null,
   "id": "3dac167a",
   "metadata": {},
   "outputs": [],
   "source": []
  },
  {
   "cell_type": "code",
   "execution_count": null,
   "id": "3ecb39de",
   "metadata": {},
   "outputs": [],
   "source": []
  },
  {
   "cell_type": "code",
   "execution_count": null,
   "id": "cf918f3b",
   "metadata": {},
   "outputs": [],
   "source": []
  },
  {
   "cell_type": "code",
   "execution_count": null,
   "id": "dc7cbab2",
   "metadata": {},
   "outputs": [],
   "source": []
  }
 ],
 "metadata": {
  "kernelspec": {
   "display_name": "Python 3 (ipykernel)",
   "language": "python",
   "name": "python3"
  },
  "language_info": {
   "codemirror_mode": {
    "name": "ipython",
    "version": 3
   },
   "file_extension": ".py",
   "mimetype": "text/x-python",
   "name": "python",
   "nbconvert_exporter": "python",
   "pygments_lexer": "ipython3",
   "version": "3.9.7"
  }
 },
 "nbformat": 4,
 "nbformat_minor": 5
}
